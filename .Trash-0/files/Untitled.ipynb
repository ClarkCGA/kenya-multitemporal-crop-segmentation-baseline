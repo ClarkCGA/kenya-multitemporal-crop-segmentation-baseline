{
 "cells": [
  {
   "cell_type": "code",
   "execution_count": 1,
   "id": "58f2c002-0c38-49c5-a16d-4474f57bf133",
   "metadata": {},
   "outputs": [],
   "source": [
    "import pandas as pd"
   ]
  },
  {
   "cell_type": "code",
   "execution_count": 11,
   "id": "4410697a-2a83-4ee6-8524-f70392dfc2be",
   "metadata": {},
   "outputs": [],
   "source": [
    "import os"
   ]
  },
  {
   "cell_type": "code",
   "execution_count": 14,
   "id": "50b6270c-4c34-4bd0-848b-32da2fb6ccc8",
   "metadata": {},
   "outputs": [],
   "source": [
    "from pathlib import Path"
   ]
  },
  {
   "cell_type": "raw",
   "id": "791fa109-1218-4200-af08-81655daef3ac",
   "metadata": {},
   "source": [
    "os.getcwd()"
   ]
  },
  {
   "cell_type": "code",
   "execution_count": 23,
   "id": "fa5879b0-db2c-43b6-bab2-2489d0914974",
   "metadata": {},
   "outputs": [],
   "source": [
    "catalog = pd.read_csv('/home/workdir/test_ids.csv', header=None)"
   ]
  },
  {
   "cell_type": "code",
   "execution_count": 24,
   "id": "fc91bb0d-4169-421b-8381-dd36513b1611",
   "metadata": {},
   "outputs": [],
   "source": [
    "flag_ids = (catalog[0].tolist())"
   ]
  },
  {
   "cell_type": "code",
   "execution_count": 27,
   "id": "8d5cb137-cf37-4d9c-a21f-2768087f6957",
   "metadata": {},
   "outputs": [],
   "source": [
    "img_fnames = [Path(dirpath) / f\n",
    "                      for (dirpath, dirnames, filenames) in os.walk(Path('/home/data') / 'kenya' / 'images')\n",
    "                      for f in filenames \n",
    "                      if f[:-4] in flag_ids]"
   ]
  },
  {
   "cell_type": "code",
   "execution_count": 28,
   "id": "a1b891a7-b32c-4a30-a46d-536ec150c633",
   "metadata": {},
   "outputs": [
    {
     "data": {
      "text/plain": [
       "PosixPath('/home/data/kenya/images/kenol2_375.tif')"
      ]
     },
     "execution_count": 28,
     "metadata": {},
     "output_type": "execute_result"
    }
   ],
   "source": [
    "img_fnames[0]"
   ]
  },
  {
   "cell_type": "code",
   "execution_count": null,
   "id": "0157d819-9caa-48d9-82cc-c8c48be91b5d",
   "metadata": {},
   "outputs": [],
   "source": []
  }
 ],
 "metadata": {
  "kernelspec": {
   "display_name": "Python 3 (ipykernel)",
   "language": "python",
   "name": "python3"
  },
  "language_info": {
   "codemirror_mode": {
    "name": "ipython",
    "version": 3
   },
   "file_extension": ".py",
   "mimetype": "text/x-python",
   "name": "python",
   "nbconvert_exporter": "python",
   "pygments_lexer": "ipython3",
   "version": "3.10.8"
  }
 },
 "nbformat": 4,
 "nbformat_minor": 5
}
