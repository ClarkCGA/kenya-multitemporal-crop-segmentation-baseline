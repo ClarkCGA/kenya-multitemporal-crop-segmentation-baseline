{
 "cells": [
  {
   "cell_type": "code",
   "execution_count": 1,
   "id": "77d62007-c43a-4c3c-a92a-4004a8976a84",
   "metadata": {},
   "outputs": [],
   "source": [
    "from tensorboard.backend.event_processing import event_accumulator\n",
    "import pandas as pd\n",
    "\n",
    "\n",
    "def parse_tensorboard(path, scalars):\n",
    "    \"\"\"returns a dictionary of pandas dataframes for each requested scalar\"\"\"\n",
    "    ea = event_accumulator.EventAccumulator(\n",
    "        path,\n",
    "        size_guidance={event_accumulator.SCALARS: 0},\n",
    "    )\n",
    "    print ea.T\n",
    "    _absorb_print = ea.Reload()\n",
    "    # make sure the scalars are in the event accumulator tags\n",
    "    assert all(\n",
    "        s in ea.Tags()[\"scalars\"] for s in scalars\n",
    "    ), \"some scalars were not found in the event accumulator\"\n",
    "    return {k: pd.DataFrame(ea.Scalars(k)) for k in scalars}"
   ]
  },
  {
   "cell_type": "code",
   "execution_count": 3,
   "id": "62bf6e44-afd3-4f55-abf2-e4efb5eee8e2",
   "metadata": {},
   "outputs": [
    {
     "ename": "AssertionError",
     "evalue": "some scalars were not found in the event accumulator",
     "output_type": "error",
     "traceback": [
      "\u001b[0;31m---------------------------------------------------------------------------\u001b[0m",
      "\u001b[0;31mAssertionError\u001b[0m                            Traceback (most recent call last)",
      "Cell \u001b[0;32mIn[3], line 1\u001b[0m\n\u001b[0;32m----> 1\u001b[0m dataframes \u001b[38;5;241m=\u001b[39m \u001b[43mparse_tensorboard\u001b[49m\u001b[43m(\u001b[49m\u001b[38;5;124;43m'\u001b[39;49m\u001b[38;5;124;43m/home/workdir/kenya_output_2/events.out.tfevents.1701721226.f11c9bdd4ccb.24.4\u001b[39;49m\u001b[38;5;124;43m'\u001b[39;49m\u001b[43m,\u001b[49m\u001b[43m \u001b[49m\u001b[43m[\u001b[49m\u001b[38;5;124;43m'\u001b[39;49m\u001b[38;5;124;43mLoss\u001b[39;49m\u001b[38;5;124;43m'\u001b[39;49m\u001b[43m]\u001b[49m\u001b[43m)\u001b[49m\n",
      "Cell \u001b[0;32mIn[1], line 13\u001b[0m, in \u001b[0;36mparse_tensorboard\u001b[0;34m(path, scalars)\u001b[0m\n\u001b[1;32m     11\u001b[0m _absorb_print \u001b[38;5;241m=\u001b[39m ea\u001b[38;5;241m.\u001b[39mReload()\n\u001b[1;32m     12\u001b[0m \u001b[38;5;66;03m# make sure the scalars are in the event accumulator tags\u001b[39;00m\n\u001b[0;32m---> 13\u001b[0m \u001b[38;5;28;01massert\u001b[39;00m \u001b[38;5;28mall\u001b[39m(\n\u001b[1;32m     14\u001b[0m     s \u001b[38;5;129;01min\u001b[39;00m ea\u001b[38;5;241m.\u001b[39mTags()[\u001b[38;5;124m\"\u001b[39m\u001b[38;5;124mscalars\u001b[39m\u001b[38;5;124m\"\u001b[39m] \u001b[38;5;28;01mfor\u001b[39;00m s \u001b[38;5;129;01min\u001b[39;00m scalars\n\u001b[1;32m     15\u001b[0m ), \u001b[38;5;124m\"\u001b[39m\u001b[38;5;124msome scalars were not found in the event accumulator\u001b[39m\u001b[38;5;124m\"\u001b[39m\n\u001b[1;32m     16\u001b[0m \u001b[38;5;28;01mreturn\u001b[39;00m {k: pd\u001b[38;5;241m.\u001b[39mDataFrame(ea\u001b[38;5;241m.\u001b[39mScalars(k)) \u001b[38;5;28;01mfor\u001b[39;00m k \u001b[38;5;129;01min\u001b[39;00m scalars}\n",
      "\u001b[0;31mAssertionError\u001b[0m: some scalars were not found in the event accumulator"
     ]
    }
   ],
   "source": [
    " ea = event_accumulator.EventAccumulator(\n",
    "        ',\n",
    "        size_guidance={event_accumulator.SCALARS: 0},"
   ]
  },
  {
   "cell_type": "code",
   "execution_count": null,
   "id": "706b59d2-b562-4526-b4d9-00ffdf67cac5",
   "metadata": {},
   "outputs": [],
   "source": []
  }
 ],
 "metadata": {
  "kernelspec": {
   "display_name": "Python 3 (ipykernel)",
   "language": "python",
   "name": "python3"
  },
  "language_info": {
   "codemirror_mode": {
    "name": "ipython",
    "version": 3
   },
   "file_extension": ".py",
   "mimetype": "text/x-python",
   "name": "python",
   "nbconvert_exporter": "python",
   "pygments_lexer": "ipython3",
   "version": "3.10.8"
  }
 },
 "nbformat": 4,
 "nbformat_minor": 5
}
