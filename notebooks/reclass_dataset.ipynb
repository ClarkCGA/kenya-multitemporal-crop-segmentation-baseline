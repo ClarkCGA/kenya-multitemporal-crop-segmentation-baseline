{
 "cells": [
  {
   "cell_type": "code",
   "execution_count": 1,
   "id": "1dab5db9-0eb0-407e-8e8c-982f784f85df",
   "metadata": {},
   "outputs": [],
   "source": [
    "import os\n",
    "import rasterio\n",
    "from rasterio.enums import Resampling"
   ]
  },
  {
   "cell_type": "code",
   "execution_count": 14,
   "id": "d98a8ef6-51c7-4ac0-afb1-50f8bcff1bbc",
   "metadata": {},
   "outputs": [],
   "source": [
    "from tqdm import tqdm"
   ]
  },
  {
   "cell_type": "code",
   "execution_count": 2,
   "id": "b58ce3cb-971b-40f1-8e6d-0f7801ee148a",
   "metadata": {},
   "outputs": [],
   "source": [
    "directory = \"/home/data/kenya/labels\"  # Replace with the path to your directory"
   ]
  },
  {
   "cell_type": "code",
   "execution_count": 13,
   "id": "08593ddd-419d-425b-adfb-0e42372ad4bd",
   "metadata": {},
   "outputs": [],
   "source": [
    "geoTIFF_files = [f for f in os.listdir(directory) if f.endswith('.tif')]\n"
   ]
  },
  {
   "cell_type": "code",
   "execution_count": 15,
   "id": "91473a23-4c2b-42d0-93b9-0653fb11a1f3",
   "metadata": {},
   "outputs": [
    {
     "name": "stderr",
     "output_type": "stream",
     "text": [
      "Processing GeoTIFFs: 100%|█████████████████████████████████████████████████████████| 2041/2041 [00:15<00:00, 132.13it/s]\n"
     ]
    }
   ],
   "source": [
    "for filename in tqdm(geoTIFF_files, desc=\"Processing GeoTIFFs\"):\n",
    "    if filename.endswith(\".tif\"):  # Check for GeoTIFF files\n",
    "        filepath = os.path.join(directory, filename)\n",
    "\n",
    "        # Open the GeoTIFF file\n",
    "        with rasterio.open(filepath) as src:\n",
    "            data = src.read(1)  # Read the first band\n",
    "\n",
    "            # Reclassify values\n",
    "            data[data == 3] = 1\n",
    "\n",
    "            # Define the output file path (can be same as input if you want to overwrite)\n",
    "            output_filepath = os.path.join(directory, filename)\n",
    "\n",
    "            # Write the modified data to a new GeoTIFF file\n",
    "            with rasterio.open(\n",
    "                output_filepath,\n",
    "                'w',\n",
    "                driver='GTiff',\n",
    "                height=data.shape[0],\n",
    "                width=data.shape[1],\n",
    "                count=1,\n",
    "                dtype=data.dtype,\n",
    "                crs=src.crs,\n",
    "                transform=src.transform\n",
    "            ) as dst:\n",
    "                dst.write(data, 1)"
   ]
  },
  {
   "cell_type": "code",
   "execution_count": null,
   "id": "27c32ace-bbdc-479f-9d6b-f84194e6f419",
   "metadata": {},
   "outputs": [],
   "source": []
  }
 ],
 "metadata": {
  "kernelspec": {
   "display_name": "Python 3 (ipykernel)",
   "language": "python",
   "name": "python3"
  },
  "language_info": {
   "codemirror_mode": {
    "name": "ipython",
    "version": 3
   },
   "file_extension": ".py",
   "mimetype": "text/x-python",
   "name": "python",
   "nbconvert_exporter": "python",
   "pygments_lexer": "ipython3",
   "version": "3.10.8"
  }
 },
 "nbformat": 4,
 "nbformat_minor": 5
}
