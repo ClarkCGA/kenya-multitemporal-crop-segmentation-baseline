{
 "cells": [
  {
   "cell_type": "code",
   "execution_count": 74,
   "id": "282f1635-f924-47e5-9534-777df5e44515",
   "metadata": {},
   "outputs": [],
   "source": [
    "import geopandas as gpd\n",
    "import matplotlib.pyplot as plt\n",
    "import rasterio\n",
    "from rasterio import features\n",
    "from rasterio.enums import MergeAlg\n",
    "from rasterio.plot import show\n",
    "from numpy import int16\n",
    "from PIL import Image\n",
    "from rasterio.windows import Window\n",
    "from rasterio import CRS\n",
    "import numpy"
   ]
  },
  {
   "cell_type": "code",
   "execution_count": 2,
   "id": "40e578f3-347b-42b3-b713-7949aede26d4",
   "metadata": {},
   "outputs": [],
   "source": [
    "# Open the GeoTIFF image\n",
    "raster = rasterio.open(\"cog.tif\")"
   ]
  },
  {
   "cell_type": "code",
   "execution_count": 3,
   "id": "86271c51-ff8d-4738-bf05-b54b85752d64",
   "metadata": {},
   "outputs": [],
   "source": [
    "labels_gdf = gpd.read_file(\"labels.geojson\")"
   ]
  },
  {
   "cell_type": "code",
   "execution_count": 4,
   "id": "a1a6adfb-4662-4e3b-bfc1-6ad469c9be1b",
   "metadata": {},
   "outputs": [],
   "source": [
    "labels_gdf = labels_gdf.to_crs(raster.crs)"
   ]
  },
  {
   "cell_type": "code",
   "execution_count": 5,
   "id": "75023204-1fd3-4018-a384-1614b0ecb2d9",
   "metadata": {},
   "outputs": [],
   "source": [
    "geom = [shapes for shapes in labels_gdf.geometry]"
   ]
  },
  {
   "cell_type": "code",
   "execution_count": 91,
   "id": "5b1028fc-7f7e-459e-a160-e60e2a15ffe7",
   "metadata": {},
   "outputs": [],
   "source": [
    "rasterized = features.rasterize(geom,\n",
    "                                out_shape = raster.shape,\n",
    "                                fill = 0,\n",
    "                                out = None,\n",
    "                                transform = raster.transform,\n",
    "                                all_touched = True,\n",
    "                                default_value = 1,\n",
    "                                dtype = None)\n",
    "label = numpy.expand_dims(rasterized, 0)"
   ]
  },
  {
   "cell_type": "code",
   "execution_count": 94,
   "id": "d3a41f47-55eb-4745-8ec7-4941729cc374",
   "metadata": {},
   "outputs": [],
   "source": [
    "\n",
    "with rasterio.open('cog.tif') as src:\n",
    "        \n",
    "    kwargs = src.meta.copy()\n",
    "    kwargs.update({'count':1})\n",
    "    with rasterio.open(f'labels.tif','w', **kwargs) as dst:\n",
    "        dst.write(label)"
   ]
  },
  {
   "cell_type": "code",
   "execution_count": 8,
   "id": "32577a03-b5eb-4fc6-9a81-ea769cdff0b4",
   "metadata": {},
   "outputs": [],
   "source": []
  },
  {
   "cell_type": "code",
   "execution_count": 11,
   "id": "da7e1fb8-6204-417a-acbe-bc4ffcf130eb",
   "metadata": {},
   "outputs": [],
   "source": [
    "chipsize = 512\n",
    "nrows = int(image.shape[1] / chipsize)\n",
    "ncolumns = int(image.shape[2] / chipsize)\n",
    "for row in range (nrows):\n",
    "    for col in range (ncolumns):\n",
    "        label_chip = rasterized[col*512:(col+1)*512,row*512:(row+1)*512]\n",
    "        if label_chip.any():\n",
    "            img_chip = image[:,col*512:(col+1)*512,row*512:(row+1)*512].transpose(1,2,0)\n",
    "            label = Image.fromarray(label_chip)\n",
    "            label.save(f\"/home/data/solar/labels/solar_label_{col}_{row}.tif\")\n",
    "            img = Image.fromarray(img_chip)\n",
    "            img.save(f\"/home/data/solar/images/solar_image_{col}_{row}.tif\")"
   ]
  },
  {
   "cell_type": "code",
   "execution_count": null,
   "id": "6b64e441-54b1-4294-9018-638f087436f3",
   "metadata": {},
   "outputs": [],
   "source": []
  },
  {
   "cell_type": "code",
   "execution_count": 102,
   "id": "649b9a36-2f03-4a24-964c-e5d831f04d2e",
   "metadata": {},
   "outputs": [],
   "source": [
    "chipsize = 512\n",
    "nrows = int(image.shape[1] / chipsize)\n",
    "ncolumns = int(image.shape[2] / chipsize)\n",
    "for row in range (nrows):\n",
    "    for col in range (ncolumns):\n",
    "        win = Window(col*chipsize, row*chipsize, chipsize, chipsize)\n",
    "        with rasterio.open('labels.tif') as lbl:\n",
    "            label_chip = lbl.read(window=win)\n",
    "            kwargs = lbl.meta.copy()\n",
    "            kwargs.update({\n",
    "                'height':chipsize,\n",
    "                'width':chipsize,\n",
    "                'transform':rasterio.windows.transform(win, lbl.transform),\n",
    "                'crs':lbl.crs})\n",
    "            if label_chip.any():\n",
    "                with rasterio.open(f'/home/data/solar/labels/solar_{col}_{row}.tif','w', **kwargs) as dst:\n",
    "                    dst.write(label_chip)\n",
    "                kwargs.update({'count':3})\n",
    "                with rasterio.open('cog.tif') as src:\n",
    "                    image_chip = src.read(window=win)[:3]\n",
    "                    with rasterio.open(f'/home/data/solar/images/solar_{col}_{row}.tif','w', **kwargs) as dst:\n",
    "                        dst.write(image_chip)"
   ]
  },
  {
   "cell_type": "code",
   "execution_count": 100,
   "id": "ff5e0f39-47eb-450f-aaa4-bee86d6ca726",
   "metadata": {},
   "outputs": [
    {
     "name": "stdout",
     "output_type": "stream",
     "text": [
      "{'driver': 'GTiff', 'dtype': 'uint8', 'nodata': None, 'width': 512, 'height': 512, 'count': 4, 'crs': CRS.from_epsg(3857), 'transform': Affine(0.14929107086948487, 0.0, -7989083.540824194,\n",
      "       0.0, -0.14929107086948487, 5205973.122446784)}\n"
     ]
    }
   ],
   "source": [
    "with rasterio.open('/home/data/solar/images/solar_12_12.tif') as src:\n",
    "    print (src.meta)"
   ]
  },
  {
   "cell_type": "code",
   "execution_count": 85,
   "id": "ef937c63-c735-4341-b0c6-36ceacea801d",
   "metadata": {},
   "outputs": [
    {
     "name": "stdout",
     "output_type": "stream",
     "text": [
      "(4, 512, 512)\n"
     ]
    }
   ],
   "source": [
    "with rasterio.open('/home/data/kenya/images/kenol2_1710.tif') as src:\n",
    "    print (src.read().shape)"
   ]
  },
  {
   "cell_type": "code",
   "execution_count": null,
   "id": "6d241e02-3ce8-4802-a35d-598fcbd457ba",
   "metadata": {},
   "outputs": [],
   "source": []
  }
 ],
 "metadata": {
  "kernelspec": {
   "display_name": "Python 3 (ipykernel)",
   "language": "python",
   "name": "python3"
  },
  "language_info": {
   "codemirror_mode": {
    "name": "ipython",
    "version": 3
   },
   "file_extension": ".py",
   "mimetype": "text/x-python",
   "name": "python",
   "nbconvert_exporter": "python",
   "pygments_lexer": "ipython3",
   "version": "3.10.8"
  }
 },
 "nbformat": 4,
 "nbformat_minor": 5
}
