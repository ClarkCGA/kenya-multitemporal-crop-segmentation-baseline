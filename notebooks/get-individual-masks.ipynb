{
 "cells": [
  {
   "cell_type": "code",
   "execution_count": 4,
   "id": "a590c428-5775-45ec-9553-76082c71b0e2",
   "metadata": {},
   "outputs": [
    {
     "name": "stdout",
     "output_type": "stream",
     "text": [
      "\u001b[33mWARNING: Running pip as the 'root' user can result in broken permissions and conflicting behaviour with the system package manager. It is recommended to use a virtual environment instead: https://pip.pypa.io/warnings/venv\u001b[0m\u001b[33m\n",
      "\u001b[0m\n",
      "\u001b[1m[\u001b[0m\u001b[34;49mnotice\u001b[0m\u001b[1;39;49m]\u001b[0m\u001b[39;49m A new release of pip is available: \u001b[0m\u001b[31;49m23.2.1\u001b[0m\u001b[39;49m -> \u001b[0m\u001b[32;49m24.0\u001b[0m\n",
      "\u001b[1m[\u001b[0m\u001b[34;49mnotice\u001b[0m\u001b[1;39;49m]\u001b[0m\u001b[39;49m To update, run: \u001b[0m\u001b[32;49mpip install --upgrade pip\u001b[0m\n"
     ]
    }
   ],
   "source": [
    "!pip install -q rioxarray"
   ]
  },
  {
   "cell_type": "code",
   "execution_count": 33,
   "id": "c06e18eb-b503-49e2-920c-02984eabb516",
   "metadata": {},
   "outputs": [],
   "source": [
    "import numpy as np\n",
    "from scipy.ndimage import label\n",
    "from PIL import Image\n",
    "import rioxarray\n",
    "import xarray as xr\n",
    "import matplotlib.pyplot as plt\n",
    "import os\n",
    "from pathlib import Path"
   ]
  },
  {
   "cell_type": "code",
   "execution_count": 63,
   "id": "9eecf53d-c2ee-4118-bbca-8ef320e92cd5",
   "metadata": {},
   "outputs": [],
   "source": [
    "from tqdm import tqdm"
   ]
  },
  {
   "cell_type": "code",
   "execution_count": 20,
   "id": "dc60fb40-25b4-4fe9-9b8a-8ff77dde4611",
   "metadata": {},
   "outputs": [],
   "source": [
    "imagedir = Path('/home/data/kenya/images/')\n",
    "maskdir = Path('/home/data/kenya/labels/')"
   ]
  },
  {
   "cell_type": "code",
   "execution_count": 46,
   "id": "fd13da72-0df3-4883-afa2-24159792005a",
   "metadata": {},
   "outputs": [],
   "source": [
    "buildingdir = Path('/home/data/kenya-binary-masks/buildings/')\n",
    "cropsdir = Path('/home/data/kenya-binary-masks/crop_fields/')"
   ]
  },
  {
   "cell_type": "code",
   "execution_count": 47,
   "id": "b9503685-e1c4-4c18-8842-6033ff964420",
   "metadata": {},
   "outputs": [],
   "source": [
    "image_files = os.listdir('/home/data/kenya/images/')\n",
    "mask_files = os.listdir('/home/data/kenya/labels/')"
   ]
  },
  {
   "cell_type": "code",
   "execution_count": 69,
   "id": "a945f124-d7ad-48bf-b813-897a1c06fccd",
   "metadata": {},
   "outputs": [
    {
     "name": "stderr",
     "output_type": "stream",
     "text": [
      "100%|███████████████████████████████████████████████████████████████████████████████| 2041/2041 [01:19<00:00, 25.61it/s]\n"
     ]
    }
   ],
   "source": [
    "for mask_file in tqdm(mask_files):\n",
    "    example_groundtruth = rioxarray.open_rasterio(maskdir / mask_file)\n",
    "    building_groundtruth = xr.where(example_groundtruth % 2 == 1, 1, 0)\n",
    "    field_groundtruth = xr.where(example_groundtruth==2, 1, 0)\n",
    "    \n",
    "    building_masks, building_num_labels = label(building_groundtruth)\n",
    "    building_object_masks = []\n",
    "    for i in range(1, building_num_labels + 1):\n",
    "        building_object_mask = xr.where(building_masks == i, 1, 0)\n",
    "        building_object_mask_xr = xr.DataArray(\n",
    "            building_object_mask, \n",
    "            coords=building_groundtruth.coords,\n",
    "            dims=building_groundtruth.dims,\n",
    "            attrs=building_groundtruth.attrs)\n",
    "        building_object_masks.append(building_object_mask_xr)\n",
    "        \n",
    "    field_masks, field_num_labels = label(field_groundtruth)\n",
    "    field_object_masks = []\n",
    "    for i in range(1, field_num_labels + 1):\n",
    "        field_object_mask = xr.where(field_masks == i, 1, 0)\n",
    "        field_object_mask_xr = xr.DataArray(\n",
    "            field_object_mask, \n",
    "            coords=field_groundtruth.coords,\n",
    "            dims=field_groundtruth.dims,\n",
    "            attrs=field_groundtruth.attrs)\n",
    "        field_object_masks.append(field_object_mask_xr)\n",
    "\n",
    "    for i, building_object_mask in enumerate(building_object_masks):\n",
    "        building_object_mask.rio.to_raster(buildingdir / (mask_file[:-4]+'_b'+str(i)+'.tif'))\n",
    "\n",
    "    for i, field_object_mask in enumerate(field_object_masks):\n",
    "        field_object_mask.rio.to_raster(cropsdir / (mask_file[:-4]+'_f'+str(i)+'.tif'))"
   ]
  }
 ],
 "metadata": {
  "kernelspec": {
   "display_name": "Python 3 (ipykernel)",
   "language": "python",
   "name": "python3"
  },
  "language_info": {
   "codemirror_mode": {
    "name": "ipython",
    "version": 3
   },
   "file_extension": ".py",
   "mimetype": "text/x-python",
   "name": "python",
   "nbconvert_exporter": "python",
   "pygments_lexer": "ipython3",
   "version": "3.10.8"
  }
 },
 "nbformat": 4,
 "nbformat_minor": 5
}
