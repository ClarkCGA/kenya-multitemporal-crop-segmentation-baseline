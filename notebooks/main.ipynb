{
 "cells": [
  {
   "cell_type": "code",
   "execution_count": null,
   "id": "194f6753-1db1-4cbd-b141-e2c680564455",
   "metadata": {},
   "outputs": [],
   "source": [
    "import os, sys, copy, time, math, random, numbers, itertools, tqdm, importlib, re\n",
    "import numpy as np\n",
    "import numpy.ma as ma\n",
    "import pandas as pd\n",
    "import matplotlib.pyplot as plt\n",
    "import cv2\n",
    "import rasterio\n",
    "import torch\n",
    "\n",
    "from sklearn import metrics\n",
    "from skimage import transform as trans\n",
    "from pathlib import Path\n",
    "from collections.abc import Sequence\n",
    "from datetime import datetime, timedelta\n",
    "from scipy.ndimage import rotate\n",
    "import torch.nn as nn\n",
    "import torch.nn.functional as F\n",
    "from torch.nn import init\n",
    "from torch import optim\n",
    "from torch.optim.lr_scheduler import _LRScheduler\n",
    "from torch.utils.data import Dataset, DataLoader\n",
    "from torch.utils.data.sampler import SubsetRandomSampler\n",
    "from torch.utils.tensorboard import SummaryWriter\n",
    "\n",
    "from IPython.core.debugger import set_trace\n",
    "\n",
    "%load_ext autoreload\n",
    "%autoreload 2\n",
    "%matplotlib inline"
   ]
  },
  {
   "cell_type": "code",
   "execution_count": null,
   "id": "7056708e-0e49-4e4d-9d75-b65b250b791c",
   "metadata": {},
   "outputs": [],
   "source": [
    "module_path = os.path.abspath(os.path.join('../src'))\n",
    "sys.path.insert(0, module_path)"
   ]
  },
  {
   "cell_type": "code",
   "execution_count": null,
   "id": "66ba94f1-2576-4bcc-bf6e-ce69f837f844",
   "metadata": {},
   "outputs": [],
   "source": [
    "from custom_dataset import *\n",
    "from utils import *\n",
    "from models.unet import *\n",
    "from model_compiler import *"
   ]
  },
  {
   "cell_type": "code",
   "execution_count": null,
   "id": "0a5101f3",
   "metadata": {},
   "outputs": [],
   "source": [
    "# chips_multi_filtered\n",
    "# [\"v_flip\", \"h_flip\", \"d_flip\", \"rotate\", \"resize\", \"shift_brightness\"]\n",
    "# \"/home/data/chkpt/Unet_final_state.pth\"\n",
    "\n",
    "\n",
    "config = {\n",
    "    # Custom dataset params\n",
    "    \"src_dir\": \"/home/data\",\n",
    "    \"train_dataset_name\": \"chips_filtered\",\n",
    "    \"train_csv_path\": \"/home/workdir/train_ids.csv\",\n",
    "    \"val_csv_path\": \"/home/workdir/val_ids.csv\",\n",
    "    \"test_csv_path\": \"/home/workdir/test_ids.csv\",\n",
    "    \"split_ratio\": 0.8,\n",
    "    \"apply_normalization\": True,\n",
    "    \"normal_strategy\": \"z_value\",\n",
    "    \"stat_procedure\": \"gpb\",\n",
    "    \"global_stats\": {\n",
    "        \"min\": np.array([0.0, 0.0, 0.0, 0.0, 0.0, 0.0] * 3),\n",
    "        \"max\": np.array([300.0, 350.0, 500.0, 800.0, 900.0, 850.0] * 3),\n",
    "        \"mean\": np.array([\n",
    "            524.299965, 852.201097, 987.414649, \n",
    "            2948.727491, 2712.733024, 1827.229407\n",
    "        ] * 3),\n",
    "        \"std\": np.array([\n",
    "            294.751052, 370.654275, 596.312886, \n",
    "            858.965608, 955.384411, 938.537931\n",
    "        ] * 3)\n",
    "    },\n",
    "    \"transformations\": [\n",
    "        \"v_flip\", \"h_flip\", \"d_flip\", \"rotate\" \n",
    "        ],\n",
    "    \"aug_params\": {\n",
    "        \"scale_factor\": (0.75, 1.3),\n",
    "        \"rotation_degree\": (-180, -90, 90, 180),\n",
    "        \"bshift_gamma_range\": (0.2, 2),\n",
    "        \"bshift_subs\": (6, 6, 6),\n",
    "        \"patch_shift\": True\n",
    "    },\n",
    "    # DataLoader\n",
    "    \"train_BatchSize\": 10,\n",
    "    \"val_test_BatchSize\": 1,\n",
    "    # Model initialization params\n",
    "    \"n_classes\": 17,\n",
    "    \"input_channels\": 18,\n",
    "    \"filter_config\": (64, 128, 256, 512, 1024, 1024),\n",
    "    \"use_skipAtt\": False,\n",
    "    \"train_dropout_rate\": 0.15,\n",
    "    # Model compiler params\n",
    "    \"working_dir\": \"/home/workdir\",\n",
    "    \"out_dir\": \"output2\",\n",
    "    \"class_mapping\": {\n",
    "        0:\"Unknown\", 1: \"Shrubland\", 2: \"Grassland/Pasture\", \n",
    "        3: \"Forest\", 4: \"Corn\", 5:\"Soybeans\", 6: \"Wetlands\",\n",
    "        7: \"Developed\", 8:\"Open Water\", 9: \"Winter Wheat\", \n",
    "        10: \"Other Hay/Non Alfalfa\", 11: \"Alfalfa\",\n",
    "        12: \"Fallow/Idle Cropland\", 13: \"Barren\", \n",
    "        14: \"Cotton\", 15: \"Sorghum\", 16:\"Other\"\n",
    "    },\n",
    "    \"gpuDevices\": [0],\n",
    "    \"init_type\": \"kaiming\",\n",
    "    \"params_init\": \"/home/data/chkpt/Unet_final_state.pth\",\n",
    "    \"freeze_params\": None,\n",
    "    # Model fitting\n",
    "    \"epochs\": 75,\n",
    "    \"optimizer\": \"sam\",\n",
    "    \"LR\": 0.01,\n",
    "    \"LR_policy\": \"PolynomialLR\",\n",
    "    \"criterion\": (\"TverskyFocalLoss(weight=[0.02018159, 0.00586021, 0.0075782,\"\n",
    "              \"0.00614043, 0.00830566, 0.00931833, 0.00985327, 0.04378487,\"\n",
    "              \"0.01287548, 0.02433819, 0.01946475, 0.01900336, 0.74793044,\"\n",
    "              \"0.02536211, 0.0293618, 0.01064128], ignore_index=0, gamma=0.9)\"),\n",
    "    \"momentum\": 0.95,\n",
    "    \"resume\": False,\n",
    "    \"resume_epoch\": None,\n",
    "    \"lr_prams\": {\n",
    "        # StepLR & MultiStepLR\n",
    "        \"step_size\": 3,\n",
    "        \"milestones\": [5, 10, 20, 35, 50, 70, 90],\n",
    "        \"gamma\": 0.98,\n",
    "        # ReduceLROnPlateau\n",
    "        \"mode\": \"min\",\n",
    "        \"factor\": 0.8,\n",
    "        \"patience\": 3,\n",
    "        \"threshold\": 0.0001,\n",
    "        \"threshold_mode\": \"rel\",\n",
    "        \"min_lr\": 3e-6,\n",
    "        # PolynomialLR\n",
    "        \"max_decay_steps\": 50,\n",
    "        \"min_learning_rate\": 1e-5,\n",
    "        \"power\": 0.85,\n",
    "        # CyclicLR\n",
    "        \"base_lr\": 3e-5,\n",
    "        \"max_lr\": 0.01,\n",
    "        \"step_size_up\": 1100,\n",
    "        \"mode\": \"triangular\"\n",
    "    },\n",
    "    # Model accuracy evaluation\n",
    "    \"val_metric_fname\" : \"validate_metrics_global_mm_lab.csv\"   \n",
    "}\n"
   ]
  },
  {
   "cell_type": "markdown",
   "id": "cd5f12c3-a3d7-466e-8f4d-3978cd90052a",
   "metadata": {
    "jp-MarkdownHeadingCollapsed": true
   },
   "source": [
    "### Steps for training and finetuning"
   ]
  },
  {
   "cell_type": "code",
   "execution_count": null,
   "id": "8b00efdb-8a76-4271-b77d-fb95faac315c",
   "metadata": {},
   "outputs": [],
   "source": [
    "# STEP 1-1\n",
    "# Read the input dataset for training, pre-process it, and generate a 'torch.utils.Dataset' object \n",
    "# that can be accepted to get loaded into the model.\n",
    "train_dataset = CropData(src_dir=config[\"src_dir\"],\n",
    "                         usage=\"train\",\n",
    "                         dataset_name=config[\"train_dataset_name\"],\n",
    "                         csv_path=config[\"train_csv_path\"],\n",
    "                         apply_normalization=config[\"apply_normalization\"],\n",
    "                         normal_strategy=config[\"normal_strategy\"],\n",
    "                         stat_procedure=config[\"stat_procedure\"],\n",
    "                         global_stats=config[\"global_stats\"],\n",
    "                         trans=config[\"transformations\"], \n",
    "                         **config[\"aug_params\"])"
   ]
  },
  {
   "cell_type": "code",
   "execution_count": null,
   "id": "aa94a8cf-a055-4dba-b0d6-bb5f82d7e483",
   "metadata": {},
   "outputs": [],
   "source": [
    "# OPTIONAL\n",
    "show_random_patches(train_dataset, sample_num=3, rgb_bands=(3, 2, 1))"
   ]
  },
  {
   "cell_type": "code",
   "execution_count": null,
   "id": "fabf4d90-8398-4ea0-8920-d76f710b051a",
   "metadata": {},
   "outputs": [],
   "source": [
    "# OPTIONAL\n",
    "# Check the distribution of categories in a dataset\n",
    "labels_count = get_labels_distribution(train_dataset, num_classes=14, ignore_class=0)\n",
    "plot_labels_distribution(labels_count)"
   ]
  },
  {
   "cell_type": "code",
   "execution_count": null,
   "id": "5b898a60-29f3-4ec8-99fb-dee3bdabfb37",
   "metadata": {},
   "outputs": [],
   "source": [
    "# STEP 1-2\n",
    "# Batchify the training dataset and put it on the defined 'Device'.\n",
    "train_loader = DataLoader(train_dataset,\n",
    "                          batch_size=config[\"train_BatchSize\"], \n",
    "                          shuffle=True)"
   ]
  },
  {
   "cell_type": "code",
   "execution_count": null,
   "id": "32ec53bd-77b4-4282-b062-66928cdaca9f",
   "metadata": {},
   "outputs": [],
   "source": [
    "# STEP 1-3\n",
    "# Read the input dataset for validation, pre-process it and generate a 'torch.utils.Dataset' object \n",
    "# that can be accepted to get loaded into the model.\n",
    "val_dataset = CropData(src_dir=config[\"src_dir\"],\n",
    "                       usage=\"validation\",\n",
    "                       dataset_name=config[\"train_dataset_name\"],\n",
    "                       csv_path=config[\"val_csv_path\"],\n",
    "                       apply_normalization=config[\"apply_normalization\"],\n",
    "                       normal_strategy=config[\"normal_strategy\"],\n",
    "                       stat_procedure=config[\"stat_procedure\"],\n",
    "                       global_stats=config[\"global_stats\"],)"
   ]
  },
  {
   "cell_type": "code",
   "execution_count": null,
   "id": "47359fe2-b439-4918-acc7-0e86ba327b2d",
   "metadata": {},
   "outputs": [],
   "source": [
    "total_pixels = 0\n",
    "total_zero_pixels = 0\n",
    "\n",
    "for img_chips, labels in val_dataset:\n",
    "    total_pixels += labels.nelement()\n",
    "    total_zero_pixels += (labels == 0).sum().item()\n",
    "\n",
    "percentage_zero = (total_zero_pixels / total_pixels) * 100\n",
    "print(f\"Percentage of zero pixels: {percentage_zero} %\")"
   ]
  },
  {
   "cell_type": "code",
   "execution_count": null,
   "id": "b7b87734-63bc-4495-b63a-b9af626d4dda",
   "metadata": {},
   "outputs": [],
   "source": [
    "# OPTIONAL\n",
    "# Check the distribution of categories in a dataset\n",
    "labels_count = get_labels_distribution(val_dataset)\n",
    "plot_labels_distribution(labels_count)"
   ]
  },
  {
   "cell_type": "code",
   "execution_count": null,
   "id": "78f9432a-dbf3-4981-ae2c-144aa5f46ba8",
   "metadata": {},
   "outputs": [],
   "source": [
    "# STEP 1-4\n",
    "# Batchify the validation dataset and put it on the defined 'Device'.\n",
    "val_loader = DataLoader(val_dataset, \n",
    "                        batch_size=config[\"val_test_BatchSize\"], \n",
    "                        shuffle=False)"
   ]
  },
  {
   "cell_type": "code",
   "execution_count": null,
   "id": "46523fb6-c853-48c4-b671-1adc41997759",
   "metadata": {},
   "outputs": [],
   "source": [
    "# STEP 2\n",
    "# Initialize the model\n",
    "model = Unet(n_classes=config[\"n_classes\"], \n",
    "             in_channels=config[\"input_channels\"], \n",
    "             use_skipAtt=config[\"use_skipAtt\"],\n",
    "             filter_config=config[\"filter_config\"],\n",
    "             dropout_rate=config[\"train_dropout_rate\"])"
   ]
  },
  {
   "cell_type": "code",
   "execution_count": null,
   "id": "20b69356-5b9d-4004-8db7-0ea187e3d9b9",
   "metadata": {},
   "outputs": [],
   "source": [
    "# STEP 3\n",
    "# Compile the model as vanilla or pre-trained object with 'fit', 'save', 'accuracy_evaluation'\n",
    "# and 'inference' methods. It also has checkpointing and resume capabilities and generates \n",
    "# tensorboard reports and graphs.\n",
    "compiled_model = ModelCompiler(model,\n",
    "                               working_dir=config[\"working_dir\"],\n",
    "                               out_dir=config[\"out_dir\"],\n",
    "                               num_classes=config[\"n_classes\"],\n",
    "                               inch=config[\"input_channels\"],\n",
    "                               class_mapping=config[\"class_mapping\"],\n",
    "                               gpu_devices=config[\"gpuDevices\"],\n",
    "                               model_init_type=config[\"init_type\"], \n",
    "                               params_init=config[\"params_init\"],\n",
    "                               freeze_params=config[\"freeze_params\"])"
   ]
  },
  {
   "cell_type": "code",
   "execution_count": null,
   "id": "c363c960-0171-4f7a-a678-82dc11c75f14",
   "metadata": {},
   "outputs": [],
   "source": [
    "# STEP 4\n",
    "# train and validate the model for the defined number of epochs\n",
    "compiled_model.fit(train_loader,\n",
    "                   val_loader, \n",
    "                   epochs=config[\"epochs\"], \n",
    "                   optimizer_name=config[\"optimizer\"], \n",
    "                   lr_init=config[\"LR\"],\n",
    "                   lr_policy=config[\"LR_policy\"], \n",
    "                   criterion=config[\"criterion\"], \n",
    "                   momentum=config[\"momentum\"],\n",
    "                   resume=config[\"resume\"],\n",
    "                   resume_epoch=config[\"resume_epoch\"],\n",
    "                   **config[\"lr_prams\"])"
   ]
  },
  {
   "cell_type": "code",
   "execution_count": null,
   "id": "e128e11f-149e-4a47-a4d4-9f31880b08be",
   "metadata": {},
   "outputs": [],
   "source": [
    "# STEP 5\n",
    "# Same model parameters\n",
    "compiled_model.save(save_object=\"params\")"
   ]
  },
  {
   "cell_type": "code",
   "execution_count": null,
   "id": "2ef3f31e-6976-4e2e-a659-c03e636e630e",
   "metadata": {},
   "outputs": [],
   "source": [
    "# STEP 6\n",
    "# Generate the accuracy metrics\n",
    "metrics = compiled_model.accuracy_evaluation(val_loader, filename=config[\"val_metric_fname\"])"
   ]
  },
  {
   "cell_type": "markdown",
   "id": "87c97ced-b4b0-476a-9684-a52a4568f25d",
   "metadata": {},
   "source": [
    "### Steps for prediction"
   ]
  },
  {
   "cell_type": "code",
   "execution_count": null,
   "id": "941320c7-ebee-4ce5-b3b0-3ce3c938b0a0",
   "metadata": {},
   "outputs": [],
   "source": [
    "test_dataset = CropData(src_dir=config[\"src_dir\"],\n",
    "                       usage=\"inference\",\n",
    "                       dataset_name=config[\"train_dataset_name\"],\n",
    "                       csv_path=config[\"test_csv_path\"],\n",
    "                       apply_normalization=config[\"apply_normalization\"],\n",
    "                       normal_strategy=config[\"normal_strategy\"],\n",
    "                       stat_procedure=config[\"stat_procedure\"],\n",
    "                       global_stats=config[\"global_stats\"],)"
   ]
  },
  {
   "cell_type": "code",
   "execution_count": null,
   "id": "f5fb8956-4b12-4fa6-a2ee-3fa70858c767",
   "metadata": {},
   "outputs": [],
   "source": [
    "test_loader = DataLoader(test_dataset, \n",
    "                        batch_size=config[\"val_test_BatchSize\"], \n",
    "                        shuffle=False)"
   ]
  },
  {
   "cell_type": "code",
   "execution_count": null,
   "id": "75c16e40-8dc4-46ad-a4f6-434ee9c50395",
   "metadata": {},
   "outputs": [],
   "source": [
    "model = Unet(n_classes=config[\"n_classes\"], \n",
    "             in_channels=config[\"input_channels\"], \n",
    "             use_skipAtt=config[\"use_skipAtt\"],\n",
    "             filter_config=config[\"filter_config\"],\n",
    "             dropout_rate=config[\"train_dropout_rate\"])"
   ]
  },
  {
   "cell_type": "code",
   "execution_count": null,
   "id": "e4159851-b338-47ef-b172-0554c0659eae",
   "metadata": {},
   "outputs": [],
   "source": [
    "compiled_model = ModelCompiler(model,\n",
    "                               working_dir=config[\"working_dir\"],\n",
    "                               out_dir=config[\"out_dir\"],\n",
    "                               num_classes=config[\"n_classes\"],\n",
    "                               inch=config[\"input_channels\"],\n",
    "                               class_mapping=config[\"class_mapping\"],\n",
    "                               gpu_devices=config[\"gpuDevices\"],\n",
    "                               model_init_type=config[\"init_type\"], \n",
    "                               params_init=config[\"params_init\"],\n",
    "                               freeze_params=config[\"freeze_params\"])"
   ]
  },
  {
   "cell_type": "code",
   "execution_count": null,
   "id": "0521d916-d09c-4720-9727-f26c9cba0e5c",
   "metadata": {},
   "outputs": [],
   "source": [
    "compiled_model.inference(test_loader, out_dir=config[\"out_dir\"])"
   ]
  },
  {
   "cell_type": "code",
   "execution_count": null,
   "id": "b18e13a1-18f5-46ba-b0a8-3f5cd22a3db9",
   "metadata": {},
   "outputs": [],
   "source": [
    "images, img_ids, img_metas = next(iter(test_loader))"
   ]
  },
  {
   "cell_type": "code",
   "execution_count": null,
   "id": "61335525-88b6-4ad9-81d8-a5a58cf07b40",
   "metadata": {},
   "outputs": [],
   "source": []
  }
 ],
 "metadata": {
  "kernelspec": {
   "display_name": "Python 3 (ipykernel)",
   "language": "python",
   "name": "python3"
  },
  "language_info": {
   "codemirror_mode": {
    "name": "ipython",
    "version": 3
   },
   "file_extension": ".py",
   "mimetype": "text/x-python",
   "name": "python",
   "nbconvert_exporter": "python",
   "pygments_lexer": "ipython3",
   "version": "3.10.8"
  }
 },
 "nbformat": 4,
 "nbformat_minor": 5
}
