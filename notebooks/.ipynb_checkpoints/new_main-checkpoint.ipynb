{
 "cells": [
  {
   "cell_type": "code",
   "execution_count": null,
   "id": "194f6753-1db1-4cbd-b141-e2c680564455",
   "metadata": {},
   "outputs": [],
   "source": [
    "import os, sys, copy, time, math, random, numbers, itertools, tqdm, importlib, re\n",
    "import numpy as np\n",
    "import numpy.ma as ma\n",
    "import pandas as pd\n",
    "import matplotlib.pyplot as plt\n",
    "import cv2\n",
    "import rasterio\n",
    "import torch\n",
    "\n",
    "from sklearn import metrics\n",
    "from skimage import transform as trans\n",
    "from pathlib import Path\n",
    "from collections.abc import Sequence\n",
    "from datetime import datetime, timedelta\n",
    "from scipy.ndimage import rotate\n",
    "import torch.nn as nn\n",
    "import torch.nn.functional as F\n",
    "from torch.nn import init\n",
    "from torch import optim\n",
    "from torch.optim.lr_scheduler import _LRScheduler\n",
    "from torch.utils.data import Dataset, DataLoader\n",
    "from torch.utils.data.sampler import SubsetRandomSampler\n",
    "from torch.utils.tensorboard import SummaryWriter\n",
    "\n",
    "from IPython.core.debugger import set_trace\n",
    "\n",
    "%load_ext autoreload\n",
    "%autoreload 2\n",
    "%matplotlib inline"
   ]
  },
  {
   "cell_type": "code",
   "execution_count": null,
   "id": "7056708e-0e49-4e4d-9d75-b65b250b791c",
   "metadata": {},
   "outputs": [],
   "source": [
    "module_path = os.path.abspath(os.path.join('../src'))\n",
    "sys.path.insert(0, module_path)"
   ]
  },
  {
   "cell_type": "code",
   "execution_count": null,
   "id": "66ba94f1-2576-4bcc-bf6e-ce69f837f844",
   "metadata": {},
   "outputs": [],
   "source": [
    "from custom_dataset import *\n",
    "from utils import *\n",
    "from models.unet import *\n",
    "from model_compiler import *"
   ]
  },
  {
   "cell_type": "code",
   "execution_count": null,
   "id": "999903df-c07c-4c4f-bd02-791a07f4d06e",
   "metadata": {},
   "outputs": [],
   "source": [
    "# chips_multi_filtered\n",
    "\n",
    "config = {\n",
    "    \n",
    "    # Custom dataset params\n",
    "    \"src_dir\": \"/home/data\",\n",
    "    \"train_dataset_name\": \"test\",\n",
    "    \"split_ratio\": 0.8,\n",
    "    \"apply_normalization\": True,\n",
    "    \"transformations\": [\"v_flip\",\"h_flip\",\"d_flip\", \"rotate\", \"resize\"],\n",
    "    \"aug_params\": {\n",
    "        \"scale_factor\": (0.75, 1.3), \n",
    "        \"rotation_degree\": (-90, 90), \n",
    "        \"bshift_gamma_range\": (0.2, 2), \n",
    "        \"bshift_subs\": (4, 4, 4), \n",
    "        \"patch_shift\": True\n",
    "    },\n",
    "\n",
    "    # DataLoader\n",
    "    \"train_BatchSize\": 8,\n",
    "    \"val_test_BatchSize\": 1,\n",
    "\n",
    "    # model initialization params\n",
    "    \"n_classes\": 14,\n",
    "    \"input_channels\": 12,\n",
    "\n",
    "    # Model compiler params\n",
    "    \"working_dir\": \"/home/workdir\",\n",
    "    \"out_dir\": \"output\",\n",
    "    \"gpuDevices\": [0],\n",
    "    \"init_type\": \"kaiming\",\n",
    "    \"params_init\": None,\n",
    "    \"freeze_params\": None,\n",
    "    \n",
    "    # Model fitting\n",
    "    \"epochs\": 100,\n",
    "    \"optimizer\": \"SGD\",\n",
    "    \"LR\": 0.003,\n",
    "    \"LR_policy\": \"PolynomialLR\",\n",
    "    \"criterion\": \"BalancedTverskyFocalCELoss(ignore_index=0)\",\n",
    "    \"momentum\": 0.95,\n",
    "    \"resume\": False,\n",
    "    \"resume_epoch\": None,\n",
    "    \"lr_prams\": {\n",
    "        # StepLR & MultiStepLR\n",
    "        \"step_size\" : 3,\n",
    "        \"milestones\": [5, 10, 20, 35, 50, 70, 90], \n",
    "        \"gamma\": 0.98, \n",
    "        # ReduceLROnPlateau\n",
    "        \"mode\": \"min\", \n",
    "        \"factor\": 0.8, \n",
    "        \"patience\": 3, \n",
    "        \"threshold\": 0.0001,\n",
    "        \"threshold_mode\": \"rel\",\n",
    "        \"min_lr\": 3e-6,\n",
    "        # PolynomialLR\n",
    "        \"max_decay_steps\": 75,\n",
    "        \"min_learning_rate\": 1e-5,\n",
    "        \"power\": 0.8,\n",
    "        # CyclicLR\n",
    "        \"base_lr\": 3e-5,\n",
    "        \"max_lr\": 0.01,\n",
    "        \"step_size_up\": 1100,\n",
    "        \"mode\": \"triangular\"\n",
    "    },\n",
    "    \n",
    "    # Model accuracy evaluation\n",
    "    \"val_metric_fname\" : \"validate_metrics.csv\"   \n",
    "}\n",
    "\n",
    "if not os.path.exists(config[\"working_dir\"]):\n",
    "    os.makedirs(config[\"working_dir\"])\n",
    "os.chdir(config[\"working_dir\"])"
   ]
  },
  {
   "cell_type": "code",
   "execution_count": null,
   "id": "8b00efdb-8a76-4271-b77d-fb95faac315c",
   "metadata": {},
   "outputs": [],
   "source": [
    "train_dataset = CropData(src_dir=config[\"src_dir\"],\n",
    "                         usage=\"train\",\n",
    "                         dataset_name=config[\"train_dataset_name\"],\n",
    "                         split_ratio=config[\"split_ratio\"],\n",
    "                         apply_normalization=config[\"apply_normalization\"],\n",
    "                         trans=config[\"transformations\"], \n",
    "                         **config[\"aug_params\"])"
   ]
  },
  {
   "cell_type": "code",
   "execution_count": null,
   "id": "5b898a60-29f3-4ec8-99fb-dee3bdabfb37",
   "metadata": {},
   "outputs": [],
   "source": [
    "train_loader = DataLoader(train_dataset,\n",
    "                          batch_size=config[\"train_BatchSize\"], \n",
    "                          shuffle=True)"
   ]
  },
  {
   "cell_type": "code",
   "execution_count": null,
   "id": "32ec53bd-77b4-4282-b062-66928cdaca9f",
   "metadata": {},
   "outputs": [],
   "source": [
    "val_dataset = CropData(src_dir=config[\"src_dir\"],\n",
    "                       usage=\"validation\",\n",
    "                       dataset_name=config[\"train_dataset_name\"],\n",
    "                       split_ratio=config[\"split_ratio\"],\n",
    "                       apply_normalization=config[\"apply_normalization\"])"
   ]
  },
  {
   "cell_type": "code",
   "execution_count": null,
   "id": "78f9432a-dbf3-4981-ae2c-144aa5f46ba8",
   "metadata": {},
   "outputs": [],
   "source": [
    "val_loader = DataLoader(val_dataset, \n",
    "                        batch_size=config[\"val_test_BatchSize\"], \n",
    "                        shuffle=False)"
   ]
  },
  {
   "cell_type": "code",
   "execution_count": null,
   "id": "46523fb6-c853-48c4-b671-1adc41997759",
   "metadata": {},
   "outputs": [],
   "source": [
    "model = Unet(n_classes=config[\"n_classes\"], in_channels=config[\"input_channels\"], use_skipAtt=False)"
   ]
  },
  {
   "cell_type": "code",
   "execution_count": null,
   "id": "20b69356-5b9d-4004-8db7-0ea187e3d9b9",
   "metadata": {},
   "outputs": [],
   "source": [
    "model = ModelCompiler(model,\n",
    "                      working_dir=config[\"working_dir\"],\n",
    "                      out_dir=config[\"out_dir\"],\n",
    "                      num_classes=config[\"n_classes\"],\n",
    "                      inch=config[\"input_channels\"],\n",
    "                      gpu_devices=config[\"gpuDevices\"],\n",
    "                      model_init_type=config[\"init_type\"], \n",
    "                      params_init=config[\"params_init\"],\n",
    "                      freeze_params=config[\"freeze_params\"])"
   ]
  },
  {
   "cell_type": "code",
   "execution_count": null,
   "id": "c363c960-0171-4f7a-a678-82dc11c75f14",
   "metadata": {},
   "outputs": [],
   "source": [
    "model.fit(train_loader,\n",
    "          val_loader, \n",
    "          epochs=config[\"epochs\"], \n",
    "          optimizer_name=config[\"optimizer\"], \n",
    "          lr_init=config[\"LR\"],\n",
    "          lr_policy=config[\"LR_policy\"], \n",
    "          criterion=config[\"criterion\"], \n",
    "          momentum=config[\"momentum\"],\n",
    "          resume=config[\"resume\"],\n",
    "         resume_epoch=config[\"resume_epoch\"],\n",
    "         **config[\"lr_prams\"])"
   ]
  },
  {
   "cell_type": "code",
   "execution_count": null,
   "id": "e128e11f-149e-4a47-a4d4-9f31880b08be",
   "metadata": {},
   "outputs": [],
   "source": []
  },
  {
   "cell_type": "code",
   "execution_count": null,
   "id": "2ef3f31e-6976-4e2e-a659-c03e636e630e",
   "metadata": {},
   "outputs": [],
   "source": []
  }
 ],
 "metadata": {
  "kernelspec": {
   "display_name": "Python 3 (ipykernel)",
   "language": "python",
   "name": "python3"
  },
  "language_info": {
   "codemirror_mode": {
    "name": "ipython",
    "version": 3
   },
   "file_extension": ".py",
   "mimetype": "text/x-python",
   "name": "python",
   "nbconvert_exporter": "python",
   "pygments_lexer": "ipython3",
   "version": "3.10.8"
  }
 },
 "nbformat": 4,
 "nbformat_minor": 5
}
