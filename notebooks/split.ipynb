{
 "cells": [
  {
   "cell_type": "code",
   "execution_count": 1,
   "id": "29ff8ace-8054-44ea-bf4a-5998fee189a6",
   "metadata": {},
   "outputs": [],
   "source": [
    "import os\n",
    "import pandas as pd\n",
    "import random"
   ]
  },
  {
   "cell_type": "code",
   "execution_count": 4,
   "id": "07a26741-74eb-4178-a39b-fccf5a54ae66",
   "metadata": {},
   "outputs": [],
   "source": [
    "chips = os.listdir('/home/data/kenya/images')\n",
    "id = [chip.split(\".\")[0] for chip in chips]"
   ]
  },
  {
   "cell_type": "code",
   "execution_count": 5,
   "id": "123b51a6-ed91-4723-b47b-5e2dc4bffdf9",
   "metadata": {},
   "outputs": [
    {
     "name": "stdout",
     "output_type": "stream",
     "text": [
      "['kenol2_375', 'kenol2_1478', 'kenol2_510', 'kenol1_1929', 'kenol2_1236']\n"
     ]
    }
   ],
   "source": [
    "print (id[0:5])"
   ]
  },
  {
   "cell_type": "code",
   "execution_count": 6,
   "id": "19ddf74f-4a2d-4ecb-9f17-36b32872f5ce",
   "metadata": {},
   "outputs": [],
   "source": [
    "os.chdir('/home/workdir/')"
   ]
  },
  {
   "cell_type": "code",
   "execution_count": 7,
   "id": "48db5c55-e436-49c2-9628-e63f5433d876",
   "metadata": {},
   "outputs": [],
   "source": [
    "# Define your list and set a random seed for reproducibility (optional)\n",
    "random.seed(42)  # Optional: Set a random seed for reproducibility\n",
    "\n",
    "# Shuffle the list to ensure random distribution of data\n",
    "random.shuffle(id)\n",
    "\n",
    "# Calculate the sizes of each subset (70%, 20%, and 10%)\n",
    "total_len = len(id)\n",
    "train_size = int(0.7 * total_len)\n",
    "validate_size = int(0.2 * total_len)\n",
    "test_size = total_len - train_size - validate_size\n",
    "\n",
    "# Split the list into subsets\n",
    "train_set = id[:train_size]\n",
    "validate_set = id[train_size:train_size + validate_size]\n",
    "test_set = id[train_size + validate_size:]\n",
    "\n",
    "# Create dataframes from the subsets\n",
    "train_df = pd.DataFrame(train_set)\n",
    "validate_df = pd.DataFrame(validate_set)\n",
    "test_df = pd.DataFrame(test_set)\n",
    "\n",
    "# Save dataframes as CSV files\n",
    "train_df.to_csv(\"train_ids.csv\", index=False)\n",
    "validate_df.to_csv(\"validate_ids.csv\", index=False)\n",
    "test_df.to_csv(\"test_ids.csv\", index=False)\n"
   ]
  },
  {
   "cell_type": "code",
   "execution_count": null,
   "id": "2778dafa-1c52-42dc-9039-01fd3a0de170",
   "metadata": {},
   "outputs": [],
   "source": []
  }
 ],
 "metadata": {
  "kernelspec": {
   "display_name": "Python 3 (ipykernel)",
   "language": "python",
   "name": "python3"
  },
  "language_info": {
   "codemirror_mode": {
    "name": "ipython",
    "version": 3
   },
   "file_extension": ".py",
   "mimetype": "text/x-python",
   "name": "python",
   "nbconvert_exporter": "python",
   "pygments_lexer": "ipython3",
   "version": "3.10.8"
  }
 },
 "nbformat": 4,
 "nbformat_minor": 5
}
