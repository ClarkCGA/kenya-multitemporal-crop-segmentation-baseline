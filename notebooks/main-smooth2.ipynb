{
 "cells": [
  {
   "cell_type": "code",
   "execution_count": 1,
   "id": "8e2fc923-e480-404f-99ae-031f7ff3d7db",
   "metadata": {},
   "outputs": [],
   "source": [
    "import os \n",
    "os.environ['CUDA_VISIBLE_DEVICES'] = '1' #cannot work"
   ]
  },
  {
   "cell_type": "code",
   "execution_count": null,
   "id": "2f05b100-251c-439e-bfec-d4f8acd4be1b",
   "metadata": {},
   "outputs": [],
   "source": []
  },
  {
   "cell_type": "code",
   "execution_count": 2,
   "id": "194f6753-1db1-4cbd-b141-e2c680564455",
   "metadata": {},
   "outputs": [],
   "source": [
    "import os, sys, copy, time, math, random, numbers, itertools, tqdm, importlib, re\n",
    "import numpy as np\n",
    "import numpy.ma as ma\n",
    "import pandas as pd\n",
    "import matplotlib.pyplot as plt\n",
    "import cv2\n",
    "import rasterio\n",
    "import torch\n",
    "import yaml\n",
    "\n",
    "from sklearn import metrics\n",
    "from skimage import transform as trans\n",
    "from pathlib import Path\n",
    "from collections.abc import Sequence\n",
    "from datetime import datetime, timedelta\n",
    "from scipy.ndimage import rotate\n",
    "import torch.nn as nn\n",
    "import torch.nn.functional as F\n",
    "from torch.nn import init\n",
    "from torch import optim\n",
    "from torch.optim.lr_scheduler import _LRScheduler\n",
    "from torch.utils.data import Dataset, DataLoader\n",
    "from torch.utils.data.sampler import SubsetRandomSampler\n",
    "from torch.utils.tensorboard import SummaryWriter\n",
    "\n",
    "from IPython.core.debugger import set_trace\n",
    "\n",
    "%load_ext autoreload\n",
    "%autoreload 2\n",
    "%matplotlib inline"
   ]
  },
  {
   "cell_type": "code",
   "execution_count": 3,
   "id": "a3f08c86-caef-4235-a0e6-cd9af58906a0",
   "metadata": {},
   "outputs": [
    {
     "data": {
      "text/plain": [
       "True"
      ]
     },
     "execution_count": 3,
     "metadata": {},
     "output_type": "execute_result"
    }
   ],
   "source": [
    "torch.cuda.is_available()"
   ]
  },
  {
   "cell_type": "code",
   "execution_count": 4,
   "id": "7056708e-0e49-4e4d-9d75-b65b250b791c",
   "metadata": {},
   "outputs": [],
   "source": [
    "# The code cell is used to add the src directory to the Python path, making \n",
    "# it possible to import modules from that directory. \n",
    "\n",
    "module_path = os.path.abspath(os.path.join('../src'))\n",
    "sys.path.insert(0, module_path)"
   ]
  },
  {
   "cell_type": "code",
   "execution_count": 5,
   "id": "66ba94f1-2576-4bcc-bf6e-ce69f837f844",
   "metadata": {},
   "outputs": [],
   "source": [
    "from custom_dataset import CropData\n",
    "from models.unet import Unet\n",
    "from model_compiler import ModelCompiler\n",
    "from custom_loss_functions import *\n",
    "from utils import *"
   ]
  },
  {
   "cell_type": "code",
   "execution_count": 21,
   "id": "31b5f7b9-5c90-4218-88d2-81f0b685f100",
   "metadata": {},
   "outputs": [],
   "source": [
    "# The code cell loads a configuration file (default_config.yaml) using the YAML library and stores the \n",
    "# configuration data in the config dictionary. Then, it processes the global_stats section of the config \n",
    "# dictionary by expanding the lists for each stats based on the number of available time points. \n",
    "# As you can see we decided to generate a single set of normalization statistics and use it to \n",
    "# normalize all the time-points.\n",
    "\n",
    "yaml_config_path = \"/home/workdir/config/kenya-config-skipatt-smoothlow.yaml\"  # replace this path to your own config file.\n",
    "num_time_points = 1  # Change this number accordingly if you use a dataset with a different temporal length.\n",
    "\n",
    "with open(yaml_config_path, 'r') as file:\n",
    "    config = yaml.load(file, Loader=yaml.SafeLoader)\n",
    "\n",
    "# Perform multiplication and concatenation for each key in global_stats\n",
    "for key, value in config['global_stats'].items():\n",
    "    config['global_stats'][key] = value * num_time_points"
   ]
  },
  {
   "cell_type": "code",
   "execution_count": 7,
   "id": "f3b8fdf3-da45-4e08-b274-b243bd2a76bf",
   "metadata": {},
   "outputs": [
    {
     "name": "stdout",
     "output_type": "stream",
     "text": [
      "{'LR': 0.011,\n",
      " 'LR_policy': 'PolynomialLR',\n",
      " 'apply_normalization': True,\n",
      " 'aug_params': {'rotation_degree': '(-90, 90)'},\n",
      " 'checkpoint_interval': 20,\n",
      " 'class_mapping': {0: 'Unknown', 1: 'Building Footprint', 2: 'Field Boundary'},\n",
      " 'criterion': {'gamma': 0.9, 'ignore_index': -1, 'name': 'TverskyFocalLoss', 'weight': None},\n",
      " 'epochs': 100,\n",
      " 'filter_config': [64, 128, 256, 512, 1024, 1024],\n",
      " 'freeze_params': None,\n",
      " 'global_stats': {'max': [255.0, 255.0, 255.0, 255.0],\n",
      "                  'mean': [112.1533, 114.1895, 92.9912, 254.9901],\n",
      "                  'min': [0.0, 0.0, 0.0, 0.0],\n",
      "                  'std': [39.2668, 34.4827, 34.6238, 1.5245]},\n",
      " 'gpuDevices': [0],\n",
      " 'init_type': 'kaiming',\n",
      " 'input_channels': 4,\n",
      " 'lr_prams': {'base_lr': 3e-05,\n",
      "              'factor': 0.8,\n",
      "              'gamma': 0.98,\n",
      "              'max_decay_steps': 80,\n",
      "              'max_lr': 0.01,\n",
      "              'milestones': [5, 10, 20, 35, 50, 70, 90],\n",
      "              'min_learning_rate': 0.0001,\n",
      "              'min_lr': 3e-06,\n",
      "              'mode': 'triangular',\n",
      "              'patience': 3,\n",
      "              'power': 0.85,\n",
      "              'step_size': 3,\n",
      "              'step_size_up': 1100,\n",
      "              'threshold': 0.0001,\n",
      "              'threshold_mode': 'rel'},\n",
      " 'momentum': 0.95,\n",
      " 'n_classes': 3,\n",
      " 'normal_strategy': 'z_value',\n",
      " 'optimizer': 'sam',\n",
      " 'out_dir': 'kenya_output_skipatt_smooth2',\n",
      " 'params_init': None,\n",
      " 'resume': None,\n",
      " 'resume_epoch': None,\n",
      " 'src_dir': '/home/data',\n",
      " 'stat_procedure': 'gpb',\n",
      " 'test_csv_path': '/home/workdir/test_ids.csv',\n",
      " 'train_BatchSize': 4,\n",
      " 'train_csv_path': '/home/workdir/train_ids.csv',\n",
      " 'train_dataset_name': 'kenya',\n",
      " 'train_dropout_rate': 0.15,\n",
      " 'transformations': ['v_flip', 'h_flip', 'd_flip'],\n",
      " 'use_skipAtt': True,\n",
      " 'val_csv_path': '/home/workdir/validate_ids.csv',\n",
      " 'val_metric_fname': 'validate_metrics_kenya_reclass.csv',\n",
      " 'val_test_BatchSize': 4,\n",
      " 'working_dir': '/home/workdir'}\n"
     ]
    }
   ],
   "source": [
    "# OPTIONAL\n",
    "# pretty-print the config dictionary\n",
    "\n",
    "import pprint\n",
    "pprint.pprint(config, width=100, compact=True)"
   ]
  },
  {
   "cell_type": "markdown",
   "id": "cd5f12c3-a3d7-466e-8f4d-3978cd90052a",
   "metadata": {},
   "source": [
    "### Steps for training and finetuning"
   ]
  },
  {
   "cell_type": "code",
   "execution_count": 8,
   "id": "8b00efdb-8a76-4271-b77d-fb95faac315c",
   "metadata": {},
   "outputs": [
    {
     "name": "stderr",
     "output_type": "stream",
     "text": [
      "100%|██████████████████████████████████████████████████████████████████████████████| 1428/1428 [00:13<00:00, 108.19it/s]"
     ]
    },
    {
     "name": "stdout",
     "output_type": "stream",
     "text": [
      "------ train dataset with 1428 patches created ------\n"
     ]
    },
    {
     "name": "stderr",
     "output_type": "stream",
     "text": [
      "\n"
     ]
    }
   ],
   "source": [
    "# STEP 1-1: Data Preparation and Loading\n",
    "# This code cell reads the input dataset for training, pre-processes it, and creates a 'torch.utils.Dataset' \n",
    "# object to be used in the model training process. It utilizes the 'CropData' class from the custom module \n",
    "# (CropData.py) to achieve this.\n",
    "\n",
    "train_dataset = CropData(src_dir=config[\"src_dir\"],\n",
    "                         usage=\"train\",\n",
    "                         dataset_name=config[\"train_dataset_name\"],\n",
    "                         csv_path=config[\"train_csv_path\"],\n",
    "                         apply_normalization=config[\"apply_normalization\"],\n",
    "                         normal_strategy=config[\"normal_strategy\"],\n",
    "                         stat_procedure=config[\"stat_procedure\"],\n",
    "                         global_stats=config[\"global_stats\"],\n",
    "                         trans=config[\"transformations\"], \n",
    "                         **config[\"aug_params\"])"
   ]
  },
  {
   "cell_type": "code",
   "execution_count": null,
   "id": "aa94a8cf-a055-4dba-b0d6-bb5f82d7e483",
   "metadata": {},
   "outputs": [],
   "source": [
    "# OPTIONAL\n",
    "#show_random_patches(train_dataset, sample_num=5, rgb_bands=(0, 1, 2))"
   ]
  },
  {
   "cell_type": "code",
   "execution_count": 8,
   "id": "fabf4d90-8398-4ea0-8920-d76f710b051a",
   "metadata": {},
   "outputs": [
    {
     "data": {
      "image/png": "[encoded data removed]",
      "text/plain": [
       "<Figure size 640x480 with 1 Axes>"
      ]
     },
     "metadata": {},
     "output_type": "display_data"
    }
   ],
   "source": [
    "# OPTIONAL\n",
    "# Check the distribution of categories in a dataset\n",
    "#labels_count = get_labels_distribution(train_dataset, num_classes=3, ignore_class=None)\n",
    "#plot_labels_distribution(labels_count, num_classes=3, ignore_class=None)"
   ]
  },
  {
   "cell_type": "code",
   "execution_count": 9,
   "id": "5b898a60-29f3-4ec8-99fb-dee3bdabfb37",
   "metadata": {},
   "outputs": [],
   "source": [
    "# STEP 1-2: Data Batching and Device Assignment\n",
    "# This code cell batchifies the training dataset using the 'DataLoader' class from PyTorch. The 'DataLoader' \n",
    "# efficiently loads the 'train_dataset' in batches, facilitating memory management during training.\n",
    "\n",
    "train_loader = DataLoader(train_dataset,\n",
    "                          batch_size=config[\"train_BatchSize\"], \n",
    "                          shuffle=True)"
   ]
  },
  {
   "cell_type": "code",
   "execution_count": 10,
   "id": "32ec53bd-77b4-4282-b062-66928cdaca9f",
   "metadata": {},
   "outputs": [
    {
     "name": "stderr",
     "output_type": "stream",
     "text": [
      "100%|████████████████████████████████████████████████████████████████████████████████| 408/408 [00:03<00:00, 106.98it/s]"
     ]
    },
    {
     "name": "stdout",
     "output_type": "stream",
     "text": [
      "------ validation dataset with 408 patches created ------\n"
     ]
    },
    {
     "name": "stderr",
     "output_type": "stream",
     "text": [
      "\n"
     ]
    }
   ],
   "source": [
    "# STEP 1-3\n",
    "# Read the input dataset for validation, pre-process it and generate a 'torch.utils.Dataset' object \n",
    "# that can be accepted to get loaded into the model.\n",
    "\n",
    "val_dataset = CropData(src_dir=config[\"src_dir\"],\n",
    "                       usage=\"validation\",\n",
    "                       dataset_name=config[\"train_dataset_name\"],\n",
    "                       csv_path=config[\"val_csv_path\"],\n",
    "                       apply_normalization=config[\"apply_normalization\"],\n",
    "                       normal_strategy=config[\"normal_strategy\"],\n",
    "                       stat_procedure=config[\"stat_procedure\"],\n",
    "                       global_stats=config[\"global_stats\"],)"
   ]
  },
  {
   "cell_type": "code",
   "execution_count": 15,
   "id": "b7b87734-63bc-4495-b63a-b9af626d4dda",
   "metadata": {},
   "outputs": [
    {
     "data": {
      "image/png": "[encoded data removed]",
      "text/plain": [
       "<Figure size 640x480 with 1 Axes>"
      ]
     },
     "metadata": {},
     "output_type": "display_data"
    }
   ],
   "source": [
    "# OPTIONAL\n",
    "# Check the distribution of categories in a dataset\n",
    "#labels_count = get_labels_distribution(val_dataset, num_classes=3, ignore_class=None)\n",
    "#plot_labels_distribution(labels_count, num_classes=3, ignore_class=None)"
   ]
  },
  {
   "cell_type": "code",
   "execution_count": 11,
   "id": "78f9432a-dbf3-4981-ae2c-144aa5f46ba8",
   "metadata": {},
   "outputs": [],
   "source": [
    "# STEP 1-4\n",
    "# Batchify the validation dataset and put it on the defined 'Device'.\n",
    "\n",
    "val_loader = DataLoader(val_dataset, \n",
    "                        batch_size=config[\"val_test_BatchSize\"], \n",
    "                        shuffle=False)"
   ]
  },
  {
   "cell_type": "code",
   "execution_count": 12,
   "id": "46523fb6-c853-48c4-b671-1adc41997759",
   "metadata": {},
   "outputs": [],
   "source": [
    "# STEP 2: Model Initialization\n",
    "# The model is based on the U-Net architecture, a popular choice for image segmentation tasks. \n",
    "\n",
    "model = Unet(n_classes=config[\"n_classes\"], \n",
    "             in_channels=config[\"input_channels\"], \n",
    "             use_skipAtt=config[\"use_skipAtt\"],\n",
    "             filter_config=config[\"filter_config\"],\n",
    "             dropout_rate=config[\"train_dropout_rate\"])"
   ]
  },
  {
   "cell_type": "code",
   "execution_count": 13,
   "id": "20b69356-5b9d-4004-8db7-0ea187e3d9b9",
   "metadata": {},
   "outputs": [
    {
     "name": "stdout",
     "output_type": "stream",
     "text": [
      "----------GPU available----------\n",
      "initialize network with kaiming.\n",
      "total number of trainable parameters: 104.8M\n",
      "---------- Vanilla Model compiled successfully ----------\n"
     ]
    }
   ],
   "source": [
    "# STEP 3: Model Compilation and Training Setup\n",
    "# This code cell compiles the deep learning model, making it ready for training and evaluation. The 'ModelCompiler' \n",
    "# class is employed for this purpose, which offers a set of essential functionalities, such as model training \n",
    "# ('fit'), model saving, accuracy evaluation ('accuracy_evaluation'), inference ('inference'), and checkpointing \n",
    "# with resume capabilities. Additionally, it generates tensorboard reports and graphs for monitoring the training \n",
    "# process.\n",
    "\n",
    "# Note: For training from scratch pass the \"params_init\" and \"freeze_params\" as None which results in loading a vanilla\n",
    "# model with random initialization based on the \"model_init_type\" parameter. For training with warmup, only change the\n",
    "# \"params_init\" to the path to model's saved parameter (not a checkpoint). For fine-tuning, change the \"params_init\" to \n",
    "# the path to model's saved parameter (by default its in the chckpt folder in working directory) and pass a list of integers\n",
    "# representing the index of layers to be frozen.\n",
    "\n",
    "compiled_model = ModelCompiler(model,\n",
    "                               working_dir=config[\"working_dir\"],\n",
    "                               out_dir=config[\"out_dir\"],\n",
    "                               num_classes=config[\"n_classes\"],\n",
    "                               inch=config[\"input_channels\"],\n",
    "                               class_mapping=config[\"class_mapping\"],\n",
    "                               gpu_devices=config[\"gpuDevices\"],\n",
    "                               model_init_type=config[\"init_type\"], \n",
    "                               params_init=config[\"params_init\"],\n",
    "                               freeze_params=config[\"freeze_params\"])"
   ]
  },
  {
   "cell_type": "code",
   "execution_count": null,
   "id": "c363c960-0171-4f7a-a678-82dc11c75f14",
   "metadata": {},
   "outputs": [
    {
     "name": "stdout",
     "output_type": "stream",
     "text": [
      "-------------------------- Start training --------------------------\n",
      "Epoch [1/100]\n",
      "train loss:0.3291666387301199\n",
      "validation loss: 0.3034\n",
      "LR: 0.01088407840200658\n",
      "time: 551\n",
      "Epoch [2/100]\n",
      "train loss:0.27060136887706626\n",
      "validation loss: 0.2895\n",
      "LR: 0.01088407840200658\n",
      "time: 550\n",
      "Epoch [3/100]\n",
      "train loss:0.2469974137237426\n",
      "validation loss: 0.2775\n",
      "LR: 0.01076793648428988\n",
      "time: 549\n",
      "Epoch [4/100]\n",
      "train loss:0.2462388937901549\n",
      "validation loss: 0.2556\n",
      "LR: 0.010651570995243713\n",
      "time: 551\n",
      "Epoch [5/100]\n",
      "train loss:0.2306380244154556\n",
      "validation loss: 0.2940\n",
      "LR: 0.010534978592374402\n",
      "time: 551\n",
      "Epoch [6/100]\n",
      "train loss:0.23825189488984289\n",
      "validation loss: 0.2899\n",
      "LR: 0.010418155838529623\n",
      "time: 550\n",
      "Epoch [7/100]\n",
      "train loss:0.23116389080798594\n",
      "validation loss: 0.3057\n",
      "LR: 0.0103010991979183\n",
      "time: 550\n",
      "Epoch [8/100]\n",
      "train loss:0.22428889772972138\n",
      "validation loss: 0.7204\n",
      "LR: 0.010183805031907068\n",
      "time: 550\n",
      "Epoch [9/100]\n",
      "train loss:0.2062380315334189\n",
      "validation loss: 0.7205\n",
      "LR: 0.010066269594577452\n",
      "time: 551\n",
      "Epoch [10/100]\n",
      "train loss:0.2051609775954101\n",
      "validation loss: 0.3694\n",
      "LR: 0.009948489028026699\n",
      "time: 550\n",
      "Epoch [11/100]\n",
      "train loss:0.20469639614140955\n",
      "validation loss: 0.2591\n",
      "LR: 0.009830459357393576\n",
      "time: 550\n",
      "Epoch [12/100]\n",
      "train loss:0.20062133256627732\n",
      "validation loss: 0.7161\n",
      "LR: 0.00971217648558892\n",
      "time: 550\n",
      "Epoch [13/100]\n",
      "train loss:0.19796807005876252\n",
      "validation loss: 0.2408\n",
      "LR: 0.009593636187708865\n",
      "time: 550\n",
      "Epoch [14/100]\n",
      "train loss:0.19758462590747186\n",
      "validation loss: 0.3970\n",
      "LR: 0.009474834105106671\n",
      "time: 550\n",
      "Epoch [15/100]\n",
      "train loss:0.19200082967470006\n",
      "validation loss: 0.6661\n",
      "LR: 0.009355765739096885\n",
      "time: 550\n",
      "Epoch [16/100]\n",
      "train loss:0.18381649585498147\n",
      "validation loss: 0.2290\n",
      "LR: 0.009236426444263108\n",
      "time: 550\n",
      "Epoch [17/100]\n",
      "train loss:0.1900960059956509\n",
      "validation loss: 0.3820\n",
      "LR: 0.009116811421337918\n",
      "time: 549\n",
      "Epoch [18/100]\n",
      "train loss:0.1865906548433277\n",
      "validation loss: 0.2616\n",
      "LR: 0.008996915709620482\n",
      "time: 549\n",
      "Epoch [19/100]\n",
      "train loss:0.18898041870872848\n",
      "validation loss: 0.2094\n",
      "LR: 0.008876734178893973\n",
      "time: 549\n",
      "Epoch [20/100]\n",
      "train loss:0.18131587120080864\n",
      "validation loss: 0.4949\n",
      "LR: 0.008756261520801238\n",
      "time: 550\n",
      "Epoch [21/100]\n",
      "train loss:0.17655174989326328\n",
      "validation loss: 0.7175\n",
      "LR: 0.008635492239632885\n",
      "time: 550\n",
      "Epoch [22/100]\n",
      "train loss:0.175694547259674\n",
      "validation loss: 0.7180\n",
      "LR: 0.008514420642477247\n",
      "time: 550\n",
      "Epoch [23/100]\n",
      "train loss:0.18351902859676786\n",
      "validation loss: 0.7179\n",
      "LR: 0.008393040828676514\n",
      "time: 549\n",
      "Epoch [24/100]\n",
      "train loss:0.1778874011496369\n",
      "validation loss: 0.2024\n",
      "LR: 0.008271346678527249\n",
      "time: 550\n",
      "Epoch [25/100]\n",
      "train loss:0.18345525742871086\n",
      "validation loss: 0.2341\n",
      "LR: 0.008149331841156956\n",
      "time: 550\n",
      "Epoch [26/100]\n",
      "train loss:0.18199726091880425\n",
      "validation loss: 0.6926\n",
      "LR: 0.008026989721500798\n",
      "time: 549\n",
      "Epoch [27/100]\n",
      "train loss:0.1825444147157736\n",
      "validation loss: 0.2023\n",
      "LR: 0.00790431346629404\n",
      "time: 550\n",
      "Epoch [28/100]\n",
      "train loss:0.18029388498400106\n",
      "validation loss: 0.2022\n",
      "LR: 0.0077812959489862174\n",
      "time: 549\n",
      "Epoch [29/100]\n",
      "train loss:0.18389378770851955\n",
      "validation loss: 0.6620\n",
      "LR: 0.007657929753472054\n",
      "time: 550\n",
      "Epoch [30/100]\n",
      "train loss:0.17536764566888327\n",
      "validation loss: 0.7171\n",
      "LR: 0.007534207156521739\n",
      "time: 549\n",
      "Epoch [31/100]\n",
      "train loss:0.1703642793312794\n",
      "validation loss: 0.1985\n",
      "LR: 0.007410120108778984\n",
      "time: 550\n",
      "Epoch [32/100]\n",
      "train loss:0.1775361036031353\n",
      "validation loss: 0.7178\n",
      "LR: 0.007285660214179062\n",
      "time: 549\n",
      "Epoch [33/100]\n",
      "train loss:0.178065189043013\n",
      "validation loss: 0.7169\n",
      "LR: 0.007160818707620457\n",
      "time: 549\n",
      "Epoch [34/100]\n",
      "train loss:0.1775201047439368\n",
      "validation loss: 0.2226\n",
      "LR: 0.00703558643070238\n",
      "time: 550\n",
      "Epoch [35/100]\n",
      "train loss:0.16536955987246765\n",
      "validation loss: 0.4568\n",
      "LR: 0.006909953805315782\n",
      "time: 549\n",
      "Epoch [36/100]\n",
      "train loss:0.16928365412337773\n",
      "validation loss: 0.7178\n",
      "LR: 0.006783910804847085\n",
      "time: 550\n",
      "Epoch [37/100]\n",
      "train loss:0.1795052902079096\n",
      "validation loss: 0.7171\n",
      "LR: 0.006657446922720798\n",
      "time: 550\n",
      "Epoch [38/100]\n",
      "train loss:0.16836521561656678\n",
      "validation loss: 0.2004\n",
      "LR: 0.00653055113796892\n",
      "time: 550\n",
      "Epoch [39/100]\n",
      "train loss:0.169851591471447\n",
      "validation loss: 0.6694\n",
      "LR: 0.006403211877470193\n",
      "time: 550\n",
      "Epoch [40/100]\n",
      "train loss:0.16676465224693804\n",
      "validation loss: 0.7171\n",
      "LR: 0.006275416974449949\n",
      "time: 549\n",
      "Epoch [41/100]\n",
      "train loss:0.16987481027716347\n",
      "validation loss: 0.1922\n",
      "LR: 0.006147153622769756\n",
      "time: 550\n",
      "Epoch [42/100]\n",
      "train loss:0.16272187831939436\n",
      "validation loss: 0.2609\n",
      "LR: 0.006018408326463413\n",
      "time: 550\n",
      "Epoch [43/100]\n",
      "train loss:0.16077540370346116\n",
      "validation loss: 0.1842\n",
      "LR: 0.005889166843890066\n",
      "time: 550\n",
      "Epoch [44/100]\n",
      "train loss:0.1665393387330096\n",
      "validation loss: 0.2976\n",
      "LR: 0.005759414125772965\n",
      "time: 550\n",
      "Epoch [45/100]\n",
      "train loss:0.18195068458465635\n",
      "validation loss: 0.2004\n",
      "LR: 0.00562913424627056\n",
      "time: 550\n",
      "Epoch [46/100]\n",
      "train loss:0.17421625737173885\n",
      "validation loss: 0.2258\n",
      "LR: 0.005498310326080407\n",
      "time: 550\n",
      "Epoch [47/100]\n",
      "train loss:0.16986075757431382\n",
      "validation loss: 0.7178\n",
      "LR: 0.005366924446400158\n",
      "time: 551\n",
      "Epoch [48/100]\n",
      "train loss:0.16803417944398916\n",
      "validation loss: 0.1897\n",
      "LR: 0.005234957552356689\n",
      "time: 550\n",
      "Epoch [49/100]\n",
      "train loss:0.17271231189996256\n",
      "validation loss: 0.2070\n",
      "LR: 0.005102389344254616\n",
      "time: 550\n",
      "Epoch [50/100]\n",
      "train loss:0.1583857998272785\n",
      "validation loss: 0.1994\n",
      "LR: 0.004969198154677598\n",
      "time: 550\n",
      "Epoch [51/100]\n"
     ]
    }
   ],
   "source": [
    "# STEP 4: Model Training and Validation\n",
    "# This code cell trains and validates the compiled deep learning model for the specified number of epochs. \n",
    "# The model is trained using the \"fit\" method provided by the 'compiled_model' object. The training data \n",
    "# is obtained from 'train_loader', which contains batched samples and labels. Additionally, the 'val_loader' \n",
    "# is used for model validation during training. For each epoch the model reports the average loss value for both \n",
    "# training and validation phases, providing insights into its generalization capabilities.\n",
    "\n",
    "# During the training the \"fit\" method will create a folder called 'chkpt' inside your working directory\n",
    "# and save the checkpoints in user-defined intervals in that folder.\n",
    "# Note: In case the training process is interrupted, you can change the \"resume\" argument and pass in the\n",
    "# epoch to resume based on the created checkpoints.\n",
    "\n",
    "criterion_name = config['criterion']['name']\n",
    "weight = config['criterion']['weight']\n",
    "ignore_index = config['criterion']['ignore_index']\n",
    "gamma = config['criterion']['gamma']\n",
    "\n",
    "if criterion_name == 'TverskyFocalLoss':\n",
    "    criterion = TverskyFocalLoss(weight=weight, ignore_index=ignore_index, smooth=2, gamma=gamma)\n",
    "else:\n",
    "    criterion = nn.CrossEntropyLoss(weight=weight, ignore_index=ignore_index)\n",
    "    \n",
    "\n",
    "compiled_model.fit(train_loader,\n",
    "                   val_loader, \n",
    "                   epochs=config[\"epochs\"], \n",
    "                   optimizer_name=config[\"optimizer\"], \n",
    "                   lr_init=config[\"LR\"],\n",
    "                   lr_policy=config[\"LR_policy\"], \n",
    "                   criterion=criterion, \n",
    "                   momentum=config[\"momentum\"],\n",
    "                   checkpoint_interval=config[\"checkpoint_interval\"],\n",
    "                   resume=config[\"resume\"],\n",
    "                   resume_epoch=config[\"resume_epoch\"],\n",
    "                   **config[\"lr_prams\"])"
   ]
  },
  {
   "cell_type": "code",
   "execution_count": 12,
   "id": "e128e11f-149e-4a47-a4d4-9f31880b08be",
   "metadata": {},
   "outputs": [
    {
     "ename": "TypeError",
     "evalue": "expected str, bytes or os.PathLike object, not NoneType",
     "output_type": "error",
     "traceback": [
      "\u001b[0;31m---------------------------------------------------------------------------\u001b[0m",
      "\u001b[0;31mTypeError\u001b[0m                                 Traceback (most recent call last)",
      "Cell \u001b[0;32mIn[12], line 3\u001b[0m\n\u001b[1;32m      1\u001b[0m \u001b[38;5;66;03m# STEP 5\u001b[39;00m\n\u001b[1;32m      2\u001b[0m \u001b[38;5;66;03m# Same model parameters\u001b[39;00m\n\u001b[0;32m----> 3\u001b[0m \u001b[43mcompiled_model\u001b[49m\u001b[38;5;241;43m.\u001b[39;49m\u001b[43msave\u001b[49m\u001b[43m(\u001b[49m\u001b[43msave_object\u001b[49m\u001b[38;5;241;43m=\u001b[39;49m\u001b[38;5;124;43m\"\u001b[39;49m\u001b[38;5;124;43mparams\u001b[39;49m\u001b[38;5;124;43m\"\u001b[39;49m\u001b[43m)\u001b[49m\n",
      "File \u001b[0;32m/home/workdir/src/model_compiler.py:473\u001b[0m, in \u001b[0;36mModelCompiler.save\u001b[0;34m(self, save_object)\u001b[0m\n\u001b[1;32m    469\u001b[0m         torch\u001b[38;5;241m.\u001b[39msave(\u001b[38;5;28mself\u001b[39m\u001b[38;5;241m.\u001b[39mmodel\u001b[38;5;241m.\u001b[39mmodule\u001b[38;5;241m.\u001b[39mstate_dict(),\n\u001b[1;32m    470\u001b[0m                    os\u001b[38;5;241m.\u001b[39mpath\u001b[38;5;241m.\u001b[39mjoin(\u001b[38;5;28mself\u001b[39m\u001b[38;5;241m.\u001b[39mcheckpoint_dirpath, \u001b[38;5;124m\"\u001b[39m\u001b[38;5;132;01m{}\u001b[39;00m\u001b[38;5;124m_final_state.pth\u001b[39m\u001b[38;5;124m\"\u001b[39m\u001b[38;5;241m.\u001b[39mformat(\u001b[38;5;28mself\u001b[39m\u001b[38;5;241m.\u001b[39mmodel_name)))\n\u001b[1;32m    471\u001b[0m     \u001b[38;5;28;01melse\u001b[39;00m:\n\u001b[1;32m    472\u001b[0m         torch\u001b[38;5;241m.\u001b[39msave(\u001b[38;5;28mself\u001b[39m\u001b[38;5;241m.\u001b[39mmodel\u001b[38;5;241m.\u001b[39mstate_dict(),\n\u001b[0;32m--> 473\u001b[0m                    \u001b[43mos\u001b[49m\u001b[38;5;241;43m.\u001b[39;49m\u001b[43mpath\u001b[49m\u001b[38;5;241;43m.\u001b[39;49m\u001b[43mjoin\u001b[49m\u001b[43m(\u001b[49m\u001b[38;5;28;43mself\u001b[39;49m\u001b[38;5;241;43m.\u001b[39;49m\u001b[43mcheckpoint_dirpath\u001b[49m\u001b[43m,\u001b[49m\u001b[43m \u001b[49m\u001b[38;5;124;43m\"\u001b[39;49m\u001b[38;5;132;43;01m{}\u001b[39;49;00m\u001b[38;5;124;43m_final_state.pth\u001b[39;49m\u001b[38;5;124;43m\"\u001b[39;49m\u001b[38;5;241;43m.\u001b[39;49m\u001b[43mformat\u001b[49m\u001b[43m(\u001b[49m\u001b[38;5;28;43mself\u001b[39;49m\u001b[38;5;241;43m.\u001b[39;49m\u001b[43mmodel_name\u001b[49m\u001b[43m)\u001b[49m\u001b[43m)\u001b[49m)\n\u001b[1;32m    475\u001b[0m     \u001b[38;5;28mprint\u001b[39m(\u001b[38;5;124m\"\u001b[39m\u001b[38;5;124m--------------------- Model parameters is saved to disk ---------------------\u001b[39m\u001b[38;5;124m\"\u001b[39m)\n\u001b[1;32m    477\u001b[0m \u001b[38;5;28;01melif\u001b[39;00m save_object \u001b[38;5;241m==\u001b[39m \u001b[38;5;124m\"\u001b[39m\u001b[38;5;124mmodel\u001b[39m\u001b[38;5;124m\"\u001b[39m:\n",
      "File \u001b[0;32m/opt/conda/lib/python3.10/posixpath.py:76\u001b[0m, in \u001b[0;36mjoin\u001b[0;34m(a, *p)\u001b[0m\n\u001b[1;32m     71\u001b[0m \u001b[38;5;28;01mdef\u001b[39;00m \u001b[38;5;21mjoin\u001b[39m(a, \u001b[38;5;241m*\u001b[39mp):\n\u001b[1;32m     72\u001b[0m \u001b[38;5;250m    \u001b[39m\u001b[38;5;124;03m\"\"\"Join two or more pathname components, inserting '/' as needed.\u001b[39;00m\n\u001b[1;32m     73\u001b[0m \u001b[38;5;124;03m    If any component is an absolute path, all previous path components\u001b[39;00m\n\u001b[1;32m     74\u001b[0m \u001b[38;5;124;03m    will be discarded.  An empty last part will result in a path that\u001b[39;00m\n\u001b[1;32m     75\u001b[0m \u001b[38;5;124;03m    ends with a separator.\"\"\"\u001b[39;00m\n\u001b[0;32m---> 76\u001b[0m     a \u001b[38;5;241m=\u001b[39m \u001b[43mos\u001b[49m\u001b[38;5;241;43m.\u001b[39;49m\u001b[43mfspath\u001b[49m\u001b[43m(\u001b[49m\u001b[43ma\u001b[49m\u001b[43m)\u001b[49m\n\u001b[1;32m     77\u001b[0m     sep \u001b[38;5;241m=\u001b[39m _get_sep(a)\n\u001b[1;32m     78\u001b[0m     path \u001b[38;5;241m=\u001b[39m a\n",
      "\u001b[0;31mTypeError\u001b[0m: expected str, bytes or os.PathLike object, not NoneType"
     ]
    }
   ],
   "source": [
    "# STEP 5\n",
    "# Same model parameters\n",
    "compiled_model.save(save_object=\"params\")"
   ]
  },
  {
   "cell_type": "code",
   "execution_count": 20,
   "id": "2ef3f31e-6976-4e2e-a659-c03e636e630e",
   "metadata": {},
   "outputs": [
    {
     "name": "stdout",
     "output_type": "stream",
     "text": [
      "---------------- Start evaluation ----------------\n"
     ]
    },
    {
     "data": {
      "image/png": "[encoded data removed]",
      "text/plain": [
       "<Figure size 300x300 with 2 Axes>"
      ]
     },
     "metadata": {},
     "output_type": "display_data"
    },
    {
     "name": "stdout",
     "output_type": "stream",
     "text": [
      "---------------- Evaluation finished in 28s ----------------\n"
     ]
    }
   ],
   "source": [
    "# STEP 6\n",
    "# Generate the accuracy metrics.\n",
    "metrics = compiled_model.accuracy_evaluation(val_loader, filename=config[\"val_metric_fname\"])"
   ]
  },
  {
   "cell_type": "markdown",
   "id": "87c97ced-b4b0-476a-9684-a52a4568f25d",
   "metadata": {},
   "source": [
    "### Steps for prediction"
   ]
  },
  {
   "cell_type": "code",
   "execution_count": 16,
   "id": "941320c7-ebee-4ce5-b3b0-3ce3c938b0a0",
   "metadata": {},
   "outputs": [
    {
     "name": "stderr",
     "output_type": "stream",
     "text": [
      "100%|████████████████████████████████████████████████████████████████████████████████| 205/205 [00:01<00:00, 115.79it/s]"
     ]
    },
    {
     "name": "stdout",
     "output_type": "stream",
     "text": [
      "------ inference dataset with 205 patches created ------\n"
     ]
    },
    {
     "name": "stderr",
     "output_type": "stream",
     "text": [
      "\n"
     ]
    }
   ],
   "source": [
    "test_dataset = CropData(src_dir=config[\"src_dir\"],\n",
    "                       usage=\"inference\",\n",
    "                       dataset_name=config[\"train_dataset_name\"],\n",
    "                       csv_path=config[\"test_csv_path\"],\n",
    "                       apply_normalization=config[\"apply_normalization\"],\n",
    "                       normal_strategy=config[\"normal_strategy\"],\n",
    "                       stat_procedure=config[\"stat_procedure\"],\n",
    "                       global_stats=config[\"global_stats\"],)"
   ]
  },
  {
   "cell_type": "code",
   "execution_count": null,
   "id": "2cacfb25-f004-4c2b-9464-d3db2ba06a5a",
   "metadata": {},
   "outputs": [],
   "source": []
  },
  {
   "cell_type": "code",
   "execution_count": 17,
   "id": "f5fb8956-4b12-4fa6-a2ee-3fa70858c767",
   "metadata": {},
   "outputs": [],
   "source": [
    "def meta_handling_collate_fn(batch):\n",
    "    images = []\n",
    "    labels = []\n",
    "    img_ids = []\n",
    "    img_metas = []\n",
    "\n",
    "    # Unpack elements from each sample in the batch\n",
    "    for sample in batch:\n",
    "        images.append(sample[0])\n",
    "        labels.append(sample[1])\n",
    "        img_ids.append(sample[2])\n",
    "        img_metas.append(sample[3])  # append the dict to the list\n",
    "\n",
    "    # Stack images and labels into a single tensor\n",
    "    images = torch.stack(images, dim=0)\n",
    "    labels = torch.stack(labels, dim=0)\n",
    "    \n",
    "    return images, labels#, img_ids, img_metas\n",
    "\n",
    "\n",
    "test_loader = DataLoader(test_dataset, \n",
    "                        batch_size=config[\"val_test_BatchSize\"], \n",
    "                        shuffle=False,\n",
    "                        collate_fn=meta_handling_collate_fn)"
   ]
  },
  {
   "cell_type": "code",
   "execution_count": 33,
   "id": "75c16e40-8dc4-46ad-a4f6-434ee9c50395",
   "metadata": {},
   "outputs": [],
   "source": [
    "model = Unet(n_classes=config[\"n_classes\"], \n",
    "             in_channels=config[\"input_channels\"], \n",
    "             use_skipAtt=config[\"use_skipAtt\"],\n",
    "             filter_config=config[\"filter_config\"],\n",
    "             dropout_rate=config[\"train_dropout_rate\"])"
   ]
  },
  {
   "cell_type": "code",
   "execution_count": 18,
   "id": "e4159851-b338-47ef-b172-0554c0659eae",
   "metadata": {},
   "outputs": [
    {
     "name": "stdout",
     "output_type": "stream",
     "text": [
      "----------GPU available----------\n",
      "total number of trainable parameters: 104.8M\n",
      "---------- Pre-trained model compiled successfully ----------\n"
     ]
    }
   ],
   "source": [
    "compiled_model = ModelCompiler(model,\n",
    "                               working_dir=config[\"working_dir\"],\n",
    "                               out_dir=config[\"out_dir\"],\n",
    "                               num_classes=config[\"n_classes\"],\n",
    "                               inch=config[\"input_channels\"],\n",
    "                               class_mapping=config[\"class_mapping\"],\n",
    "                               gpu_devices=config[\"gpuDevices\"],\n",
    "                               model_init_type=config[\"init_type\"], \n",
    "                               params_init='/home/workdir/kenya_output_skipatt_smooth2/Unet_ep100/chkpt/best_model_checkpoint.pth.tar',\n",
    "                               freeze_params=config[\"freeze_params\"])"
   ]
  },
  {
   "cell_type": "code",
   "execution_count": 39,
   "id": "0521d916-d09c-4720-9727-f26c9cba0e5c",
   "metadata": {},
   "outputs": [
    {
     "name": "stdout",
     "output_type": "stream",
     "text": [
      "---------------- Start prediction ----------------\n",
      "Pred tile: kenol1_1007 is written to kenya_output_sam\n",
      "Pred tile: kenol1_1064 is written to kenya_output_sam\n",
      "Pred tile: kenol1_1070 is written to kenya_output_sam\n",
      "Pred tile: kenol1_1071 is written to kenya_output_sam\n",
      "Pred tile: kenol1_1087 is written to kenya_output_sam\n",
      "Pred tile: kenol1_1101 is written to kenya_output_sam\n",
      "Pred tile: kenol1_1103 is written to kenya_output_sam\n",
      "Pred tile: kenol1_1149 is written to kenya_output_sam\n",
      "Pred tile: kenol1_1150 is written to kenya_output_sam\n",
      "Pred tile: kenol1_1151 is written to kenya_output_sam\n",
      "Pred tile: kenol1_1156 is written to kenya_output_sam\n",
      "Pred tile: kenol1_1180 is written to kenya_output_sam\n",
      "Pred tile: kenol1_1244 is written to kenya_output_sam\n",
      "Pred tile: kenol1_1248 is written to kenya_output_sam\n",
      "Pred tile: kenol1_1254 is written to kenya_output_sam\n",
      "Pred tile: kenol1_1265 is written to kenya_output_sam\n",
      "Pred tile: kenol1_1266 is written to kenya_output_sam\n",
      "Pred tile: kenol1_1278 is written to kenya_output_sam\n",
      "Pred tile: kenol1_1312 is written to kenya_output_sam\n",
      "Pred tile: kenol1_1335 is written to kenya_output_sam\n",
      "Pred tile: kenol1_1339 is written to kenya_output_sam\n",
      "Pred tile: kenol1_1342 is written to kenya_output_sam\n",
      "Pred tile: kenol1_1359 is written to kenya_output_sam\n",
      "Pred tile: kenol1_1363 is written to kenya_output_sam\n",
      "Pred tile: kenol1_1405 is written to kenya_output_sam\n",
      "Pred tile: kenol1_1414 is written to kenya_output_sam\n",
      "Pred tile: kenol1_1425 is written to kenya_output_sam\n",
      "Pred tile: kenol1_1432 is written to kenya_output_sam\n",
      "Pred tile: kenol1_1438 is written to kenya_output_sam\n",
      "Pred tile: kenol1_1484 is written to kenya_output_sam\n",
      "Pred tile: kenol1_1486 is written to kenya_output_sam\n",
      "Pred tile: kenol1_1488 is written to kenya_output_sam\n",
      "Pred tile: kenol1_1491 is written to kenya_output_sam\n",
      "Pred tile: kenol1_1494 is written to kenya_output_sam\n",
      "Pred tile: kenol1_1514 is written to kenya_output_sam\n",
      "Pred tile: kenol1_1535 is written to kenya_output_sam\n",
      "Pred tile: kenol1_1569 is written to kenya_output_sam\n",
      "Pred tile: kenol1_1573 is written to kenya_output_sam\n",
      "Pred tile: kenol1_1582 is written to kenya_output_sam\n",
      "Pred tile: kenol1_1589 is written to kenya_output_sam\n",
      "Pred tile: kenol1_1595 is written to kenya_output_sam\n",
      "Pred tile: kenol1_1606 is written to kenya_output_sam\n",
      "Pred tile: kenol1_1614 is written to kenya_output_sam\n",
      "Pred tile: kenol1_1615 is written to kenya_output_sam\n",
      "Pred tile: kenol1_1622 is written to kenya_output_sam\n",
      "Pred tile: kenol1_1624 is written to kenya_output_sam\n",
      "Pred tile: kenol1_1653 is written to kenya_output_sam\n",
      "Pred tile: kenol1_1656 is written to kenya_output_sam\n",
      "Pred tile: kenol1_1664 is written to kenya_output_sam\n",
      "Pred tile: kenol1_1666 is written to kenya_output_sam\n",
      "Pred tile: kenol1_1675 is written to kenya_output_sam\n",
      "Pred tile: kenol1_1683 is written to kenya_output_sam\n",
      "Pred tile: kenol1_1687 is written to kenya_output_sam\n",
      "Pred tile: kenol1_1690 is written to kenya_output_sam\n",
      "Pred tile: kenol1_1694 is written to kenya_output_sam\n",
      "Pred tile: kenol1_1702 is written to kenya_output_sam\n",
      "Pred tile: kenol1_1705 is written to kenya_output_sam\n",
      "Pred tile: kenol1_1708 is written to kenya_output_sam\n",
      "Pred tile: kenol1_1734 is written to kenya_output_sam\n",
      "Pred tile: kenol1_1750 is written to kenya_output_sam\n",
      "Pred tile: kenol1_1758 is written to kenya_output_sam\n",
      "Pred tile: kenol1_1793 is written to kenya_output_sam\n",
      "Pred tile: kenol1_1809 is written to kenya_output_sam\n",
      "Pred tile: kenol1_1816 is written to kenya_output_sam\n",
      "Pred tile: kenol1_1826 is written to kenya_output_sam\n",
      "Pred tile: kenol1_1827 is written to kenya_output_sam\n",
      "Pred tile: kenol1_1833 is written to kenya_output_sam\n",
      "Pred tile: kenol1_1834 is written to kenya_output_sam\n",
      "Pred tile: kenol1_1868 is written to kenya_output_sam\n",
      "Pred tile: kenol1_1931 is written to kenya_output_sam\n",
      "Pred tile: kenol1_1936 is written to kenya_output_sam\n",
      "Pred tile: kenol1_1962 is written to kenya_output_sam\n",
      "Pred tile: kenol1_1963 is written to kenya_output_sam\n",
      "Pred tile: kenol1_1987 is written to kenya_output_sam\n",
      "Pred tile: kenol1_1998 is written to kenya_output_sam\n",
      "Pred tile: kenol1_2008 is written to kenya_output_sam\n",
      "Pred tile: kenol1_2012 is written to kenya_output_sam\n",
      "Pred tile: kenol1_2014 is written to kenya_output_sam\n",
      "Pred tile: kenol1_2031 is written to kenya_output_sam\n",
      "Pred tile: kenol1_2039 is written to kenya_output_sam\n",
      "Pred tile: kenol1_2070 is written to kenya_output_sam\n",
      "Pred tile: kenol1_2073 is written to kenya_output_sam\n",
      "Pred tile: kenol1_2093 is written to kenya_output_sam\n",
      "Pred tile: kenol1_2099 is written to kenya_output_sam\n",
      "Pred tile: kenol1_2114 is written to kenya_output_sam\n",
      "Pred tile: kenol1_2119 is written to kenya_output_sam\n",
      "Pred tile: kenol1_2125 is written to kenya_output_sam\n",
      "Pred tile: kenol1_2153 is written to kenya_output_sam\n",
      "Pred tile: kenol1_2166 is written to kenya_output_sam\n",
      "Pred tile: kenol1_2171 is written to kenya_output_sam\n",
      "Pred tile: kenol1_2172 is written to kenya_output_sam\n",
      "Pred tile: kenol1_2174 is written to kenya_output_sam\n",
      "Pred tile: kenol1_2210 is written to kenya_output_sam\n",
      "Pred tile: kenol1_2215 is written to kenya_output_sam\n",
      "Pred tile: kenol1_2219 is written to kenya_output_sam\n",
      "Pred tile: kenol1_2223 is written to kenya_output_sam\n",
      "Pred tile: kenol1_2241 is written to kenya_output_sam\n",
      "Pred tile: kenol1_2251 is written to kenya_output_sam\n",
      "Pred tile: kenol1_2252 is written to kenya_output_sam\n",
      "Pred tile: kenol1_2271 is written to kenya_output_sam\n",
      "Pred tile: kenol1_236 is written to kenya_output_sam\n",
      "Pred tile: kenol1_320 is written to kenya_output_sam\n",
      "Pred tile: kenol1_324 is written to kenya_output_sam\n",
      "Pred tile: kenol1_405 is written to kenya_output_sam\n",
      "Pred tile: kenol1_414 is written to kenya_output_sam\n",
      "Pred tile: kenol1_578 is written to kenya_output_sam\n",
      "Pred tile: kenol1_583 is written to kenya_output_sam\n",
      "Pred tile: kenol1_664 is written to kenya_output_sam\n",
      "Pred tile: kenol1_741 is written to kenya_output_sam\n",
      "Pred tile: kenol1_749 is written to kenya_output_sam\n",
      "Pred tile: kenol1_751 is written to kenya_output_sam\n",
      "Pred tile: kenol1_752 is written to kenya_output_sam\n",
      "Pred tile: kenol1_753 is written to kenya_output_sam\n",
      "Pred tile: kenol1_826 is written to kenya_output_sam\n",
      "Pred tile: kenol1_827 is written to kenya_output_sam\n",
      "Pred tile: kenol1_837 is written to kenya_output_sam\n",
      "Pred tile: kenol2_1017 is written to kenya_output_sam\n",
      "Pred tile: kenol2_1027 is written to kenya_output_sam\n",
      "Pred tile: kenol2_1032 is written to kenya_output_sam\n",
      "Pred tile: kenol2_1034 is written to kenya_output_sam\n",
      "Pred tile: kenol2_1046 is written to kenya_output_sam\n",
      "Pred tile: kenol2_1047 is written to kenya_output_sam\n",
      "Pred tile: kenol2_1069 is written to kenya_output_sam\n",
      "Pred tile: kenol2_1089 is written to kenya_output_sam\n",
      "Pred tile: kenol2_1090 is written to kenya_output_sam\n",
      "Pred tile: kenol2_1095 is written to kenya_output_sam\n",
      "Pred tile: kenol2_1097 is written to kenya_output_sam\n",
      "Pred tile: kenol2_1118 is written to kenya_output_sam\n",
      "Pred tile: kenol2_1120 is written to kenya_output_sam\n",
      "Pred tile: kenol2_1121 is written to kenya_output_sam\n",
      "Pred tile: kenol2_1141 is written to kenya_output_sam\n",
      "Pred tile: kenol2_1162 is written to kenya_output_sam\n",
      "Pred tile: kenol2_1171 is written to kenya_output_sam\n",
      "Pred tile: kenol2_1184 is written to kenya_output_sam\n",
      "Pred tile: kenol2_1209 is written to kenya_output_sam\n",
      "Pred tile: kenol2_1210 is written to kenya_output_sam\n",
      "Pred tile: kenol2_1245 is written to kenya_output_sam\n",
      "Pred tile: kenol2_1246 is written to kenya_output_sam\n",
      "Pred tile: kenol2_1272 is written to kenya_output_sam\n",
      "Pred tile: kenol2_1285 is written to kenya_output_sam\n",
      "Pred tile: kenol2_1287 is written to kenya_output_sam\n",
      "Pred tile: kenol2_1299 is written to kenya_output_sam\n",
      "Pred tile: kenol2_1303 is written to kenya_output_sam\n",
      "Pred tile: kenol2_1321 is written to kenya_output_sam\n",
      "Pred tile: kenol2_1326 is written to kenya_output_sam\n",
      "Pred tile: kenol2_1330 is written to kenya_output_sam\n",
      "Pred tile: kenol2_1331 is written to kenya_output_sam\n",
      "Pred tile: kenol2_1343 is written to kenya_output_sam\n",
      "Pred tile: kenol2_1372 is written to kenya_output_sam\n",
      "Pred tile: kenol2_1418 is written to kenya_output_sam\n",
      "Pred tile: kenol2_1433 is written to kenya_output_sam\n",
      "Pred tile: kenol2_1444 is written to kenya_output_sam\n",
      "Pred tile: kenol2_1460 is written to kenya_output_sam\n",
      "Pred tile: kenol2_1466 is written to kenya_output_sam\n",
      "Pred tile: kenol2_1494 is written to kenya_output_sam\n",
      "Pred tile: kenol2_1505 is written to kenya_output_sam\n",
      "Pred tile: kenol2_1522 is written to kenya_output_sam\n",
      "Pred tile: kenol2_1527 is written to kenya_output_sam\n",
      "Pred tile: kenol2_1545 is written to kenya_output_sam\n",
      "Pred tile: kenol2_1551 is written to kenya_output_sam\n",
      "Pred tile: kenol2_1555 is written to kenya_output_sam\n",
      "Pred tile: kenol2_1556 is written to kenya_output_sam\n",
      "Pred tile: kenol2_1557 is written to kenya_output_sam\n",
      "Pred tile: kenol2_1558 is written to kenya_output_sam\n",
      "Pred tile: kenol2_1561 is written to kenya_output_sam\n",
      "Pred tile: kenol2_1572 is written to kenya_output_sam\n",
      "Pred tile: kenol2_1633 is written to kenya_output_sam\n",
      "Pred tile: kenol2_1644 is written to kenya_output_sam\n",
      "Pred tile: kenol2_1645 is written to kenya_output_sam\n",
      "Pred tile: kenol2_1672 is written to kenya_output_sam\n",
      "Pred tile: kenol2_1685 is written to kenya_output_sam\n",
      "Pred tile: kenol2_1688 is written to kenya_output_sam\n",
      "Pred tile: kenol2_1701 is written to kenya_output_sam\n",
      "Pred tile: kenol2_1705 is written to kenya_output_sam\n",
      "Pred tile: kenol2_361 is written to kenya_output_sam\n",
      "Pred tile: kenol2_368 is written to kenya_output_sam\n",
      "Pred tile: kenol2_373 is written to kenya_output_sam\n",
      "Pred tile: kenol2_374 is written to kenya_output_sam\n",
      "Pred tile: kenol2_435 is written to kenya_output_sam\n",
      "Pred tile: kenol2_441 is written to kenya_output_sam\n",
      "Pred tile: kenol2_451 is written to kenya_output_sam\n",
      "Pred tile: kenol2_524 is written to kenya_output_sam\n",
      "Pred tile: kenol2_579 is written to kenya_output_sam\n",
      "Pred tile: kenol2_591 is written to kenya_output_sam\n",
      "Pred tile: kenol2_593 is written to kenya_output_sam\n",
      "Pred tile: kenol2_596 is written to kenya_output_sam\n",
      "Pred tile: kenol2_598 is written to kenya_output_sam\n",
      "Pred tile: kenol2_599 is written to kenya_output_sam\n",
      "Pred tile: kenol2_652 is written to kenya_output_sam\n",
      "Pred tile: kenol2_657 is written to kenya_output_sam\n",
      "Pred tile: kenol2_668 is written to kenya_output_sam\n",
      "Pred tile: kenol2_673 is written to kenya_output_sam\n",
      "Pred tile: kenol2_680 is written to kenya_output_sam\n",
      "Pred tile: kenol2_727 is written to kenya_output_sam\n",
      "Pred tile: kenol2_744 is written to kenya_output_sam\n",
      "Pred tile: kenol2_795 is written to kenya_output_sam\n",
      "Pred tile: kenol2_798 is written to kenya_output_sam\n",
      "Pred tile: kenol2_806 is written to kenya_output_sam\n",
      "Pred tile: kenol2_824 is written to kenya_output_sam\n",
      "Pred tile: kenol2_873 is written to kenya_output_sam\n",
      "Pred tile: kenol2_904 is written to kenya_output_sam\n",
      "Pred tile: kenol2_907 is written to kenya_output_sam\n",
      "Pred tile: kenol2_946 is written to kenya_output_sam\n",
      "Pred tile: kenol2_973 is written to kenya_output_sam\n",
      "Pred tile: kenol2_975 is written to kenya_output_sam\n",
      "---------------- Prediction finished in 14s ----------------\n"
     ]
    }
   ],
   "source": [
    "compiled_model.inference(test_loader, out_dir=config[\"out_dir\"])"
   ]
  },
  {
   "cell_type": "code",
   "execution_count": null,
   "id": "647407ec-b249-40d8-a4ba-70d69edf1fc4",
   "metadata": {},
   "outputs": [],
   "source": []
  }
 ],
 "metadata": {
  "kernelspec": {
   "display_name": "Python 3 (ipykernel)",
   "language": "python",
   "name": "python3"
  },
  "language_info": {
   "codemirror_mode": {
    "name": "ipython",
    "version": 3
   },
   "file_extension": ".py",
   "mimetype": "text/x-python",
   "name": "python",
   "nbconvert_exporter": "python",
   "pygments_lexer": "ipython3",
   "version": "3.10.8"
  }
 },
 "nbformat": 4,
 "nbformat_minor": 5
}
