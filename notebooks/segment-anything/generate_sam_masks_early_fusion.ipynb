{
 "cells": [
  {
   "cell_type": "code",
   "execution_count": 2,
   "id": "bd17a067-b417-4b36-9e85-bc8aac45e767",
   "metadata": {
    "tags": []
   },
   "outputs": [
    {
     "name": "stderr",
     "output_type": "stream",
     "text": [
      "/usr/local/lib/python3.10/site-packages/sam2/modeling/sam/transformer.py:23: UserWarning: Flash Attention is disabled as it requires a GPU with Ampere (8.0) CUDA capability.\n",
      "  OLD_GPU, USE_FLASH_ATTN, MATH_KERNEL_ON = get_sdpa_settings()\n"
     ]
    }
   ],
   "source": [
    "from tqdm import tqdm\n",
    "import os\n",
    "from pathlib import Path\n",
    "from PIL import Image\n",
    "import numpy as np\n",
    "import torch\n",
    "import matplotlib.pyplot as plt\n",
    "import cv2\n",
    "import rioxarray\n",
    "from samgeo import SamGeo, show_image, download_file, overlay_images, tms_to_geotiff"
   ]
  },
  {
   "cell_type": "code",
   "execution_count": 4,
   "id": "8c113411-d6e2-4357-9474-5ace83f5b9c7",
   "metadata": {
    "tags": []
   },
   "outputs": [],
   "source": [
    "os.environ['CUDA_VISIBLE_DEVICES'] = '1'"
   ]
  },
  {
   "cell_type": "code",
   "execution_count": 5,
   "id": "019578a3-2f82-4ba2-8a9c-52d575fc52bf",
   "metadata": {
    "tags": []
   },
   "outputs": [],
   "source": [
    "data_dir = Path('/app/dataset/')"
   ]
  },
  {
   "cell_type": "code",
   "execution_count": 6,
   "id": "6cff38b7-0191-41e8-a603-f82e457e1e14",
   "metadata": {
    "tags": []
   },
   "outputs": [],
   "source": [
    "sam_kwargs = {\n",
    "    \"points_per_side\": 32,\n",
    "    \"pred_iou_thresh\": 0.5,\n",
    "    \"stability_score_thresh\": 0.92,\n",
    "    \"crop_n_layers\": 1,\n",
    "    \"crop_n_points_downscale_factor\": 1,\n",
    "    \"min_mask_region_area\": 200,\n",
    "}"
   ]
  },
  {
   "cell_type": "code",
   "execution_count": 7,
   "id": "af568bf7-3626-4308-be0d-cd1a0bf4a565",
   "metadata": {
    "tags": []
   },
   "outputs": [],
   "source": [
    "sam = SamGeo(\n",
    "    model_type=\"vit_h\",\n",
    "    device='cuda',\n",
    "    sam_kwargs=sam_kwargs,\n",
    ")"
   ]
  },
  {
   "cell_type": "code",
   "execution_count": 8,
   "id": "83870ae2-5679-479f-ab22-a460401c6e54",
   "metadata": {
    "tags": []
   },
   "outputs": [],
   "source": [
    "image_directory = data_dir / 'images'\n",
    "sam_mask_directory = data_dir / 'sam_masks'\n",
    "sam_mask_directory.mkdir(exist_ok=True)\n",
    "geoTIFF_files = image_directory.glob('*.tif')"
   ]
  },
  {
   "cell_type": "code",
   "execution_count": null,
   "id": "08a897fa-11ad-4a42-ba68-5f84d0911173",
   "metadata": {
    "tags": []
   },
   "outputs": [
    {
     "name": "stderr",
     "output_type": "stream",
     "text": [
      "generating SAM masks: 3it [00:50, 16.75s/it]"
     ]
    }
   ],
   "source": [
    "for filepath in tqdm(geoTIFF_files, desc=\"generating SAM masks\"):\n",
    "    output = sam_mask_directory / filepath.name\n",
    "    sam.generate(str(filepath), output=str(output), foreground=True, unique=True)"
   ]
  },
  {
   "cell_type": "code",
   "execution_count": null,
   "id": "034e1b0a-7b39-4855-9fe8-81109083563f",
   "metadata": {},
   "outputs": [],
   "source": []
  }
 ],
 "metadata": {
  "kernelspec": {
   "display_name": "Python 3 (ipykernel)",
   "language": "python",
   "name": "python3"
  },
  "language_info": {
   "codemirror_mode": {
    "name": "ipython",
    "version": 3
   },
   "file_extension": ".py",
   "mimetype": "text/x-python",
   "name": "python",
   "nbconvert_exporter": "python",
   "pygments_lexer": "ipython3",
   "version": "3.10.16"
  }
 },
 "nbformat": 4,
 "nbformat_minor": 5
}
