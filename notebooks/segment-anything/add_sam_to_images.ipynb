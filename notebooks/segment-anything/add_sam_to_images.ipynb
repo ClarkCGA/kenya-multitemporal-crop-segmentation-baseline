{
 "cells": [
  {
   "cell_type": "code",
   "execution_count": 1,
   "id": "3dd4f8b6-d9d6-490b-971e-a78d66d118f5",
   "metadata": {},
   "outputs": [],
   "source": [
    "import os\n",
    "import rasterio\n",
    "from tqdm import tqdm"
   ]
  },
  {
   "cell_type": "code",
   "execution_count": 12,
   "id": "861aad74-c5f3-444a-832d-9d3b07248408",
   "metadata": {},
   "outputs": [],
   "source": [
    "# Assuming directory paths are defined\n",
    "original_directory = \"/home/data/kenya/images\"\n",
    "replacement_directory = \"/home/data/kenya/sam_masks\"\n",
    "output_directory = \"/home/data/kenya/images_with_sam\"\n",
    "os.mkdir(\"/home/data/kenya/images_with_sam\")"
   ]
  },
  {
   "cell_type": "code",
   "execution_count": 13,
   "id": "296aee36-627f-45e6-8867-4f12b664f4ae",
   "metadata": {},
   "outputs": [],
   "source": [
    "geoTIFF_files = [f for f in os.listdir(original_directory) if f.endswith('.tif')]"
   ]
  },
  {
   "cell_type": "code",
   "execution_count": 14,
   "id": "15358a15-0bcb-48ff-b069-e40e161ed8da",
   "metadata": {},
   "outputs": [
    {
     "name": "stderr",
     "output_type": "stream",
     "text": [
      "Processing GeoTIFFs: 100%|██████████████████████████████████████████████████████████| 2041/2041 [00:28<00:00, 72.10it/s]\n"
     ]
    }
   ],
   "source": [
    "for filename in tqdm(geoTIFF_files, desc=\"Processing GeoTIFFs\"):\n",
    "    if filename.endswith(\".tif\"):\n",
    "        original_filepath = os.path.join(original_directory, filename)\n",
    "        replacement_filepath = os.path.join(replacement_directory, filename)\n",
    "        output_filepath = os.path.join(output_directory, filename)\n",
    "\n",
    "        with rasterio.open(original_filepath) as original:\n",
    "            # Read all bands\n",
    "            data = original.read()\n",
    "            \n",
    "            # Ensure there are at least 4 bands\n",
    "            if data.shape[0] < 4:\n",
    "                print(f\"Skipping {filename} as it has less than 4 bands.\")\n",
    "                continue\n",
    "\n",
    "            with rasterio.open(replacement_filepath) as replacement:\n",
    "                # Read the single band\n",
    "                single_band = replacement.read(1)\n",
    "\n",
    "                # Replace the 4th band\n",
    "                data[3, :, :] = single_band\n",
    "\n",
    "            # Save the modified data\n",
    "            with rasterio.open(output_filepath, 'w', **original.meta) as dest:\n",
    "                dest.write(data)\n"
   ]
  },
  {
   "cell_type": "code",
   "execution_count": null,
   "id": "40a538af-1160-4f0f-b30e-af97186c7545",
   "metadata": {},
   "outputs": [],
   "source": []
  }
 ],
 "metadata": {
  "kernelspec": {
   "display_name": "Python 3 (ipykernel)",
   "language": "python",
   "name": "python3"
  },
  "language_info": {
   "codemirror_mode": {
    "name": "ipython",
    "version": 3
   },
   "file_extension": ".py",
   "mimetype": "text/x-python",
   "name": "python",
   "nbconvert_exporter": "python",
   "pygments_lexer": "ipython3",
   "version": "3.10.16"
  }
 },
 "nbformat": 4,
 "nbformat_minor": 5
}
