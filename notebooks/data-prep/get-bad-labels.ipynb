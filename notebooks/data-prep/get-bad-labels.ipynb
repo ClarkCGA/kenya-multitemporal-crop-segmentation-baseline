{
 "cells": [
  {
   "cell_type": "code",
   "execution_count": 1,
   "id": "6e09daa4-b575-44e1-a3f9-9e0827770815",
   "metadata": {},
   "outputs": [],
   "source": [
    "import os\n",
    "import rasterio"
   ]
  },
  {
   "cell_type": "code",
   "execution_count": 5,
   "id": "b6c23ef7-8315-4f05-a083-1c1f46d7aad2",
   "metadata": {},
   "outputs": [],
   "source": [
    "def check_tif_values(directory):\n",
    "    \"\"\"\n",
    "    Reads every .tif file in the given directory using rasterio,\n",
    "    checks if the values of the tif are in 0, 1, 2, or 3,\n",
    "    and returns a list of .tif files which contain values other than these.\n",
    "    \"\"\"\n",
    "    invalid_tif_files = []\n",
    "\n",
    "    for filename in os.listdir(directory):\n",
    "        if filename.endswith('.tif'):\n",
    "            filepath = os.path.join(directory, filename)\n",
    "            with rasterio.open(filepath) as src:\n",
    "                data = src.read(1)  # Reading the first band\n",
    "\n",
    "                # Check if the values are outside the range 0, 1, 2, 3\n",
    "                if not ((data == 0) | (data == 1) | (data == 2) | (data == 3)).all():\n",
    "                    invalid_tif_files.append(filename)\n",
    "\n",
    "    return invalid_tif_files"
   ]
  },
  {
   "cell_type": "code",
   "execution_count": 6,
   "id": "a19257bd-578b-476f-abf1-324cfa524404",
   "metadata": {},
   "outputs": [],
   "source": [
    "# Example usage\n",
    "directory = '/home/data/kenya/labels/'\n",
    "result = check_tif_values(directory)"
   ]
  },
  {
   "cell_type": "code",
   "execution_count": 7,
   "id": "d1eecf67-d8ba-49f6-a0e0-e1400205d3d7",
   "metadata": {},
   "outputs": [
    {
     "name": "stdout",
     "output_type": "stream",
     "text": [
      "['kenol1_1252.tif', 'kenol1_920.tif', 'kenol1_2192.tif', 'kenol1_485.tif', 'kenol1_990.tif', 'kenol2_289.tif', 'kenol1_929.tif', 'kenol1_1316.tif', 'kenol2_749.tif', 'kenol2_216.tif', 'kenol1_1321.tif', 'kenol1_994.tif', 'kenol2_221.tif', 'kenol2_287.tif', 'kenol2_288.tif', 'kenol2_218.tif', 'kenol1_2170.tif', 'kenol2_512.tif', 'kenol1_1351.tif', 'kenol2_901.tif', 'kenol1_1233.tif', 'kenol1_903.tif', 'kenol2_219.tif', 'kenol1_497.tif', 'kenol1_2107.tif', 'kenol1_2201.tif', 'kenol2_810.tif', 'kenol1_486.tif', 'kenol2_1678.tif', 'kenol1_1930.tif', 'kenol1_760.tif', 'kenol1_1164.tif', 'kenol2_293.tif']\n"
     ]
    }
   ],
   "source": [
    "print(result)"
   ]
  },
  {
   "cell_type": "code",
   "execution_count": 9,
   "id": "56438727-835d-4cef-9e18-f550c2d781c1",
   "metadata": {},
   "outputs": [],
   "source": [
    "for file in result:\n",
    "    os.remove(os.path.join(directory, file))\n",
    "    os.remove(os.path.join('/home/data/kenya/images/', file))"
   ]
  }
 ],
 "metadata": {
  "kernelspec": {
   "display_name": "Python 3 (ipykernel)",
   "language": "python",
   "name": "python3"
  },
  "language_info": {
   "codemirror_mode": {
    "name": "ipython",
    "version": 3
   },
   "file_extension": ".py",
   "mimetype": "text/x-python",
   "name": "python",
   "nbconvert_exporter": "python",
   "pygments_lexer": "ipython3",
   "version": "3.10.16"
  }
 },
 "nbformat": 4,
 "nbformat_minor": 5
}
