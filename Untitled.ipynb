{
 "cells": [
  {
   "cell_type": "code",
   "execution_count": null,
   "id": "5afa7591-d7cc-4da7-98cb-259cb88fac30",
   "metadata": {},
   "outputs": [],
   "source": [
    "import rasterio\n",
    "from glob import glob\n",
    "import numpy as np\n",
    "import pandas as pd\n",
    "import pickle\n",
    "import os"
   ]
  },
  {
   "cell_type": "code",
   "execution_count": null,
   "id": "faaea0ed-bb03-4d37-a1f9-712f3d3d515f",
   "metadata": {},
   "outputs": [],
   "source": [
    "##### START OPTIONS #####\n",
    "root_path = \"/home/data/\"\n",
    "stats_folder = root_path + \"band_stats/\"\n",
    "chip_dir_filt = root_path + 'chips_filtered/'\n",
    "chip_dir_binary_filt = root_path + 'chips_binary_filtered/'\n",
    "chip_dir_multi_filt = root_path + 'chips_multi_filtered/'\n",
    "\n",
    "#####  END OPTIONS  #####"
   ]
  },
  {
   "cell_type": "code",
   "execution_count": null,
   "id": "f19f1b91-9291-4ef4-ab9e-ad299af2020f",
   "metadata": {},
   "outputs": [],
   "source": [
    "band_ids = [[1,7,13], [2,8,14], [3,9,15], [4,10,16], [5,11,17], [6,12,18]]\n",
    "\n",
    "chips = glob(chip_dir_filt + \"*_merged.tif\")\n",
    "print(len(chips))\n",
    "means = []\n",
    "stds = []\n",
    "\n",
    "for i_band, band in enumerate(band_ids):\n",
    "    print(i_band+1, \":\", band)\n",
    "    vals_all = np.ndarray([0])\n",
    "    for k in range(len(chips)):\n",
    "        file = chips[k]\n",
    "        with rasterio.open(file) as src:\n",
    "            vals = src.read(band).flatten()\n",
    "            vals_all = np.concatenate([vals_all, vals])\n",
    "    mean = vals_all.mean()\n",
    "    std = vals_all.std()\n",
    "    print(mean)\n",
    "    print(std)\n",
    "    means.append(mean)\n",
    "    stds.append(std)\n",
    "    \n",
    "    with open(stats_folder + 'band_values_' + str(i_band+1) + '.list', 'wb') as file:\n",
    "        pickle.dump(vals_all, file)"
   ]
  }
 ],
 "metadata": {
  "kernelspec": {
   "display_name": "Python 3 (ipykernel)",
   "language": "python",
   "name": "python3"
  },
  "language_info": {
   "codemirror_mode": {
    "name": "ipython",
    "version": 3
   },
   "file_extension": ".py",
   "mimetype": "text/x-python",
   "name": "python",
   "nbconvert_exporter": "python",
   "pygments_lexer": "ipython3",
   "version": "3.10.8"
  }
 },
 "nbformat": 4,
 "nbformat_minor": 5
}
